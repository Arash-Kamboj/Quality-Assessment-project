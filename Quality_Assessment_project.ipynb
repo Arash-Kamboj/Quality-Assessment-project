{
  "nbformat": 4,
  "nbformat_minor": 0,
  "metadata": {
    "colab": {
      "provenance": [],
      "authorship_tag": "ABX9TyMHH60nbDCFweP0iKWvcS9D",
      "include_colab_link": true
    },
    "kernelspec": {
      "name": "python3",
      "display_name": "Python 3"
    },
    "language_info": {
      "name": "python"
    }
  },
  "cells": [
    {
      "cell_type": "markdown",
      "metadata": {
        "id": "view-in-github",
        "colab_type": "text"
      },
      "source": [
        "<a href=\"https://colab.research.google.com/github/Arash-Kamboj/Quality-Assessment-project/blob/main/Quality_Assessment_project.ipynb\" target=\"_parent\"><img src=\"https://colab.research.google.com/assets/colab-badge.svg\" alt=\"Open In Colab\"/></a>"
      ]
    },
    {
      "cell_type": "markdown",
      "source": [
        "**Uploading dataset**\n",
        "\n",
        "\n",
        "---\n",
        "\n",
        "\n"
      ],
      "metadata": {
        "id": "23WyA3M1ft81"
      }
    },
    {
      "cell_type": "code",
      "execution_count": 3,
      "metadata": {
        "colab": {
          "base_uri": "https://localhost:8080/",
          "height": 128
        },
        "id": "TlnLEjHCwJmt",
        "outputId": "25ef1896-8f49-4238-ba48-a66d6882198c"
      },
      "outputs": [
        {
          "output_type": "display_data",
          "data": {
            "text/plain": [
              "<IPython.core.display.HTML object>"
            ],
            "text/html": [
              "\n",
              "     <input type=\"file\" id=\"files-1ffb5332-6888-44d1-82b1-8f33ee89b4e2\" name=\"files[]\" multiple disabled\n",
              "        style=\"border:none\" />\n",
              "     <output id=\"result-1ffb5332-6888-44d1-82b1-8f33ee89b4e2\">\n",
              "      Upload widget is only available when the cell has been executed in the\n",
              "      current browser session. Please rerun this cell to enable.\n",
              "      </output>\n",
              "      <script>// Copyright 2017 Google LLC\n",
              "//\n",
              "// Licensed under the Apache License, Version 2.0 (the \"License\");\n",
              "// you may not use this file except in compliance with the License.\n",
              "// You may obtain a copy of the License at\n",
              "//\n",
              "//      http://www.apache.org/licenses/LICENSE-2.0\n",
              "//\n",
              "// Unless required by applicable law or agreed to in writing, software\n",
              "// distributed under the License is distributed on an \"AS IS\" BASIS,\n",
              "// WITHOUT WARRANTIES OR CONDITIONS OF ANY KIND, either express or implied.\n",
              "// See the License for the specific language governing permissions and\n",
              "// limitations under the License.\n",
              "\n",
              "/**\n",
              " * @fileoverview Helpers for google.colab Python module.\n",
              " */\n",
              "(function(scope) {\n",
              "function span(text, styleAttributes = {}) {\n",
              "  const element = document.createElement('span');\n",
              "  element.textContent = text;\n",
              "  for (const key of Object.keys(styleAttributes)) {\n",
              "    element.style[key] = styleAttributes[key];\n",
              "  }\n",
              "  return element;\n",
              "}\n",
              "\n",
              "// Max number of bytes which will be uploaded at a time.\n",
              "const MAX_PAYLOAD_SIZE = 100 * 1024;\n",
              "\n",
              "function _uploadFiles(inputId, outputId) {\n",
              "  const steps = uploadFilesStep(inputId, outputId);\n",
              "  const outputElement = document.getElementById(outputId);\n",
              "  // Cache steps on the outputElement to make it available for the next call\n",
              "  // to uploadFilesContinue from Python.\n",
              "  outputElement.steps = steps;\n",
              "\n",
              "  return _uploadFilesContinue(outputId);\n",
              "}\n",
              "\n",
              "// This is roughly an async generator (not supported in the browser yet),\n",
              "// where there are multiple asynchronous steps and the Python side is going\n",
              "// to poll for completion of each step.\n",
              "// This uses a Promise to block the python side on completion of each step,\n",
              "// then passes the result of the previous step as the input to the next step.\n",
              "function _uploadFilesContinue(outputId) {\n",
              "  const outputElement = document.getElementById(outputId);\n",
              "  const steps = outputElement.steps;\n",
              "\n",
              "  const next = steps.next(outputElement.lastPromiseValue);\n",
              "  return Promise.resolve(next.value.promise).then((value) => {\n",
              "    // Cache the last promise value to make it available to the next\n",
              "    // step of the generator.\n",
              "    outputElement.lastPromiseValue = value;\n",
              "    return next.value.response;\n",
              "  });\n",
              "}\n",
              "\n",
              "/**\n",
              " * Generator function which is called between each async step of the upload\n",
              " * process.\n",
              " * @param {string} inputId Element ID of the input file picker element.\n",
              " * @param {string} outputId Element ID of the output display.\n",
              " * @return {!Iterable<!Object>} Iterable of next steps.\n",
              " */\n",
              "function* uploadFilesStep(inputId, outputId) {\n",
              "  const inputElement = document.getElementById(inputId);\n",
              "  inputElement.disabled = false;\n",
              "\n",
              "  const outputElement = document.getElementById(outputId);\n",
              "  outputElement.innerHTML = '';\n",
              "\n",
              "  const pickedPromise = new Promise((resolve) => {\n",
              "    inputElement.addEventListener('change', (e) => {\n",
              "      resolve(e.target.files);\n",
              "    });\n",
              "  });\n",
              "\n",
              "  const cancel = document.createElement('button');\n",
              "  inputElement.parentElement.appendChild(cancel);\n",
              "  cancel.textContent = 'Cancel upload';\n",
              "  const cancelPromise = new Promise((resolve) => {\n",
              "    cancel.onclick = () => {\n",
              "      resolve(null);\n",
              "    };\n",
              "  });\n",
              "\n",
              "  // Wait for the user to pick the files.\n",
              "  const files = yield {\n",
              "    promise: Promise.race([pickedPromise, cancelPromise]),\n",
              "    response: {\n",
              "      action: 'starting',\n",
              "    }\n",
              "  };\n",
              "\n",
              "  cancel.remove();\n",
              "\n",
              "  // Disable the input element since further picks are not allowed.\n",
              "  inputElement.disabled = true;\n",
              "\n",
              "  if (!files) {\n",
              "    return {\n",
              "      response: {\n",
              "        action: 'complete',\n",
              "      }\n",
              "    };\n",
              "  }\n",
              "\n",
              "  for (const file of files) {\n",
              "    const li = document.createElement('li');\n",
              "    li.append(span(file.name, {fontWeight: 'bold'}));\n",
              "    li.append(span(\n",
              "        `(${file.type || 'n/a'}) - ${file.size} bytes, ` +\n",
              "        `last modified: ${\n",
              "            file.lastModifiedDate ? file.lastModifiedDate.toLocaleDateString() :\n",
              "                                    'n/a'} - `));\n",
              "    const percent = span('0% done');\n",
              "    li.appendChild(percent);\n",
              "\n",
              "    outputElement.appendChild(li);\n",
              "\n",
              "    const fileDataPromise = new Promise((resolve) => {\n",
              "      const reader = new FileReader();\n",
              "      reader.onload = (e) => {\n",
              "        resolve(e.target.result);\n",
              "      };\n",
              "      reader.readAsArrayBuffer(file);\n",
              "    });\n",
              "    // Wait for the data to be ready.\n",
              "    let fileData = yield {\n",
              "      promise: fileDataPromise,\n",
              "      response: {\n",
              "        action: 'continue',\n",
              "      }\n",
              "    };\n",
              "\n",
              "    // Use a chunked sending to avoid message size limits. See b/62115660.\n",
              "    let position = 0;\n",
              "    do {\n",
              "      const length = Math.min(fileData.byteLength - position, MAX_PAYLOAD_SIZE);\n",
              "      const chunk = new Uint8Array(fileData, position, length);\n",
              "      position += length;\n",
              "\n",
              "      const base64 = btoa(String.fromCharCode.apply(null, chunk));\n",
              "      yield {\n",
              "        response: {\n",
              "          action: 'append',\n",
              "          file: file.name,\n",
              "          data: base64,\n",
              "        },\n",
              "      };\n",
              "\n",
              "      let percentDone = fileData.byteLength === 0 ?\n",
              "          100 :\n",
              "          Math.round((position / fileData.byteLength) * 100);\n",
              "      percent.textContent = `${percentDone}% done`;\n",
              "\n",
              "    } while (position < fileData.byteLength);\n",
              "  }\n",
              "\n",
              "  // All done.\n",
              "  yield {\n",
              "    response: {\n",
              "      action: 'complete',\n",
              "    }\n",
              "  };\n",
              "}\n",
              "\n",
              "scope.google = scope.google || {};\n",
              "scope.google.colab = scope.google.colab || {};\n",
              "scope.google.colab._files = {\n",
              "  _uploadFiles,\n",
              "  _uploadFilesContinue,\n",
              "};\n",
              "})(self);\n",
              "</script> "
            ]
          },
          "metadata": {}
        },
        {
          "output_type": "stream",
          "name": "stdout",
          "text": [
            "Saving Quality Assessment.dataset.csv to Quality Assessment.dataset (1).csv\n"
          ]
        },
        {
          "output_type": "execute_result",
          "data": {
            "text/plain": [
              "{'Quality Assessment.dataset (1).csv': b'Id,Assembly Line,Quantity (lts.),CO2 dissolved,Time limit Crossed\\r\\n1263945,B,1.971072193,14.40161727,0\\r\\n1828129,B,2.073387733,14.13774996,0\\r\\n1871804,A,2.019491841,14.77438436,0\\r\\n1128634,A,2.004422297,15.13056493,0\\r\\n1848595,B,2.025784431,15.75647787,0\\r\\n1960254,B,2.070400454,12.94062032,0\\r\\n1669282,B,,16.66485112,0\\r\\n1036391,B,1.903054767,12.6044288,1\\r\\n1874678,A,1.990955836,14.97212021,0\\r\\n1619807,A,2.014521254,12.64505839,0\\r\\n1736635,B,2.050204421,14.51104747,0\\r\\n1321095,B,1.970827928,15.62646915,0\\r\\n1703785,A,2.00352747,13.13297644,0\\r\\n1670556,A,1.992049898,12.60601339,0\\r\\n1564466,A,,12.77388103,1\\r\\n1337450,B,1.944122706,13.36263814,0\\r\\n1546013,B,2.00624953,13.12576916,0\\r\\n1535896,A,1.999007644,12.84362604,1\\r\\n1321437,B,1.955247415,12.86329409,0\\r\\n1094205,A,2.016747723,14.05266859,0\\r\\n1325280,B,1.891834573,12.01492914,0\\r\\n1199050,b,1.958932568,14.52374185,0\\r\\n1130342,A,1.971349231,15.24481279,0\\r\\n1681927,A,1.968372444,13.60906048,0\\r\\n1162457,a,1.982551138,120.1075286,0\\r\\n1727006,B,1.896389469,12.85795279,0\\r\\n1383935,B,1.99188316,14.71261033,0\\r\\n1658012,A,2.017755347,14.09150432,0\\r\\n1292107,A,1.956702775,15.55183922,0\\r\\n1631942,A,1.979559052,15.70362202,0\\r\\n1787695,B,1.925680359,11.84365698,0\\r\\n1856272,A,2.042763252,12.33638015,1\\r\\n1780197,A,2.031123809,13.79469577,0\\r\\n1586281,A,2.016027899,12.3104367,1\\r\\n1357119,B,1.907927407,13.47021142,0\\r\\n1351569,B,2.041998432,13.11355489,0\\r\\n1898505,A,1.955224649,13.46070192,0\\r\\n1299891,B,,120.5028891,0\\r\\n1611494,b,2.048325908,13.40040251,0\\r\\n1694767,A,1.967817455,13.95187304,0\\r\\n1004988,A,1.973013741,15.21716882,0\\r\\n1341693,A,1.997106884,13.2075593,0\\r\\n1450020,A,1.951422581,14.25246635,0\\r\\n1932721,A,2.013974274,14.93054524,0\\r\\n1872122,B,1.941644129,12.85453701,1\\r\\n1448649,B,2.00465838,12.20949516,0\\r\\n1143935,A,1.972580346,13.3639581,0\\r\\n1360126,B,1.952995001,13.49402228,0\\r\\n1141037,A,2.033242768,13.42810981,0\\r\\n1851540,A,1.998012096,14.70711983,0\\r\\n1850448,B,1.998924327,15.38061437,0\\r\\n1239850,A,1.990717274,14.86015177,1\\r\\n1613848,B,1.950905887,14.81693208,0\\r\\n1903575,A,2.012851203,15.45884087,0\\r\\n1683709,A,2.038003954,13.10414147,0\\r\\n1889446,A,1.993984184,12.35591495,0\\r\\n1241475,B,2.076591845,15.9038778,0\\r\\n1060166,B,2.080037764,15.29226058,0\\r\\n1401302,A,2.013406044,15.34373582,0\\r\\n1243425,B,2.109917367,15.01714028,0\\r\\n1782778,B,1.923755976,2.25345405,0\\r\\n1235317,B,1.926248568,13.22972307,0\\r\\n1185145,A,,14.79063541,0\\r\\n1327611,A,2.046499838,16.03721071,0\\r\\n1837469,B,2.098350923,14.29124405,0\\r\\n1446181,A,2.034007401,130.1797706,0\\r\\n1915467,B,2.011794817,14.91953745,0\\r\\n1625593,A,2.004997747,12.31658872,0\\r\\n1082558,B,2.100220422,14.20571972,0\\r\\n1838888,A,2.04696816,15.38339332,0\\r\\n1736833,A,2.002078294,14.85150651,0\\r\\n1585820,B,2.086424241,16.59988464,1\\r\\n1601958,A,1.982746251,14.6979565,1\\r\\n1313055,A,,14.31102335,0\\r\\n1183883,B,1.986225836,12.4882246,1\\r\\n1827365,B,1.995209266,15.89491458,1\\r\\n1835103,A,1.971156554,14.02912065,0\\r\\n1616753,B,2.041608718,13.22885831,1\\r\\n1984965,A,2.031168439,12.61346778,0\\r\\n1560902,A,1.96664991,14.07697575,0\\r\\n1150690,A,2.023769056,16.06490069,1\\r\\n1066880,A,1.950360593,12.71769481,0\\r\\n1600173,B,1.898879938,13.35224538,0\\r\\n1947921,A,2.011075579,14.58689567,0\\r\\n1611697,B,,13.71358688,1\\r\\n1711343,A,2.026531778,150.180978,0\\r\\n1301623,B,1.986127718,140.2333676,0\\r\\n1107712,A,1.956203004,15.60429049,0\\r\\n1635585,B,2.019925137,13.54635531,1\\r\\n1949386,B,2.104785842,13.65104396,0\\r\\n1183692,A,1.979790334,13.95742098,0\\r\\n1760432,B,2.076908257,14.23384066,0\\r\\n1990054,b,1.920725394,11.97630874,1\\r\\n1499800,A,2.001247387,13.79929065,0\\r\\n1387639,A,1.999670286,15.28184261,0\\r\\n1105571,A,1.979359173,14.97452516,0\\r\\n1358009,B,2.029933276,13.68692171,1\\r\\n1088322,A,2.031831589,14.73615326,0\\r\\n1509137,B,1.904334639,14.83071276,1\\r\\n1477547,A,1.967954807,13.57097992,0\\r\\n1247971,A,1.976703108,15.51078273,1\\r\\n1597863,B,2.051145141,14.03226792,0\\r\\n1049304,B,1.93082352,14.06437061,0\\r\\n1182244,B,2.04038898,12.58078103,1\\r\\n1432784,B,1.989648446,12.33603951,0\\r\\n1744802,A,1.955936726,13.84602558,0\\r\\n1994149,A,2.03058527,15.587111,0\\r\\n1699779,B,2.008308255,12.2094824,0\\r\\n1209848,B,2.090133057,14.64557911,0\\r\\n1251055,B,2.070160137,14.27595166,0\\r\\n1938348,B,1.916009121,12.23643048,0\\r\\n1198593,B,1.96956645,13.51616743,0\\r\\n1039571,B,2.008930637,13.49977905,0\\r\\n1650966,A,2.048616091,13.0540184,0\\r\\n1233930,B,1.986834559,13.14729874,1\\r\\n1703271,B,1.985767426,12.05350474,0\\r\\n1734214,B,1.901245355,12.1584602,0\\r\\n1222272,A,1.997947127,12.3491371,1\\r\\n1717166,A,2.047157177,14.48684595,0\\r\\n1702273,B,1.994743908,14.506689,0\\r\\n1943195,B,1.975204633,12.5044801,0\\r\\n1963988,B,2.08633149,16.20207022,1\\r\\n1087790,A,2.006527295,13.59988685,0\\r\\n1658601,A,2.039857378,13.39545591,0\\r\\n1966959,B,2.091912532,16.52847579,0\\r\\n1819359,B,1.995480521,15.96270013,0\\r\\n1481515,A,2.001755556,12.52251084,1\\r\\n1110555,B,1.937915727,14.01161055,1\\r\\n1887995,A,2.024105256,12.73445019,0\\r\\n1585116,B,2.099834254,13.68333136,0\\r\\n1100387,A,1.993346859,15.51624698,0\\r\\n1875382,B,1.97920981,15.53978583,1\\r\\n1802230,A,1.997188016,12.60137507,0\\r\\n1089684,A,2.047180631,15.59808723,0\\r\\n1520685,B,2.083570465,14.47339204,0\\r\\n1436626,B,1.977463664,13.47240854,0\\r\\n1184594,B,1.973791113,12.19731519,0\\r\\n1956477,A,2.030391174,14.88144024,0\\r\\n1840596,B,1.945849581,12.01385439,0\\r\\n1793323,B,1.945936406,12.55850438,1\\r\\n1166260,A,1.965448383,13.60925793,0\\r\\n1376666,A,1.99617588,15.80055938,0\\r\\n1031975,B,2.003331771,13.79467014,0\\r\\n1456370,A,1.976463372,12.91514914,0\\r\\n1152118,A,1.970320772,15.23764443,1\\r\\n1041941,A,1.99589642,13.42089,0\\r\\n1120497,B,1.938937008,15.22016933,0\\r\\n1415383,A,1.993520582,13.5812863,0\\r\\n1339681,A,1.962338744,15.30609691,0\\r\\n1143950,A,1.983912345,15.56574125,0\\r\\n1542213,B,2.066980336,15.20791961,0\\r\\n1983918,A,2.015171349,15.28741843,0\\r\\n1713973,B,1.929474692,14.75583716,0\\r\\n1700174,a,1.972858202,13.02204823,0\\r\\n1534849,B,1.942644008,15.14874758,0\\r\\n1491572,B,2.013093375,15.47736905,0\\r\\n1005321,B,2.060617252,16.07587452,0\\r\\n1709801,B,1.897916009,13.43061581,0\\r\\n1344963,B,1.99589799,12.46778992,1\\r\\n1221354,A,1.953137319,14.30358653,0\\r\\n1411005,A,1.969222556,13.1003419,0\\r\\n1164182,A,1.964120543,15.55614843,0\\r\\n1780854,A,1.97138681,15.03639515,1\\r\\n1922588,A,2.032049799,14.22577603,0\\r\\n1616528,B,2.069016253,14.44107578,0\\r\\n1157558,B,1.951390238,15.43869707,0\\r\\n1949214,b,2.088170296,14.53106459,0\\r\\n1323537,B,2.00652605,12.51320799,0\\r\\n1312072,A,1.950826421,13.36673115,0\\r\\n1417995,A,2.013841339,14.96605931,1\\r\\n1285212,B,1.919717393,13.03400305,0\\r\\n1883057,B,2.028720704,15.83245249,0\\r\\n1774399,B,2.073381774,13.2149502,0\\r\\n1388381,B,2.089886824,15.96358775,0\\r\\n1076561,B,1.935395828,14.06467265,1\\r\\n1750983,A,1.954759737,11.96169153,0\\r\\n1998094,B,2.046119741,14.40922413,0\\r\\n1710406,B,2.012203777,13.31336088,0\\r\\n1059625,A,2.028567771,14.33966096,0\\r\\n1638231,A,1.976626804,15.27542195,0\\r\\n1086512,A,2.001689505,14.77885462,0\\r\\n1871817,A,1.980265551,15.02306793,0\\r\\n1010454,B,2.098937639,13.86832207,0\\r\\n1651783,B,1.982432757,15.61300389,0\\r\\n1965864,B,1.899649494,13.74440743,0\\r\\n1298541,B,2.047028945,14.04736281,0\\r\\n1323893,B,2.086322186,13.83496056,0\\r\\n1365883,A,2.033035907,13.2665121,0\\r\\n1169525,B,2.063947972,13.17077021,0\\r\\n1525828,A,1.96814717,15.71224988,0\\r\\n1791862,A,2.030169442,15.7682027,0\\r\\n1572478,B,2.026175994,15.60994427,1\\r\\n1368204,A,2.032669868,13.11776035,1\\r\\n1030657,B,1.911300406,12.12442012,0\\r\\n1657034,A,2.021312957,13.15057958,0\\r\\n1999475,A,1.959255788,12.31972918,0\\r\\n1032603,A,1.984369202,15.61101893,1\\r\\n1906278,B,2.008911012,13.54849689,1\\r\\n1670973,B,1.982332576,15.07128967,0\\r\\n1838834,A,1.990966843,12.22697448,0\\r\\n1700589,A,1.977014072,13.39182895,0\\r\\n1425469,A,1.980808691,13.10016066,0\\r\\n1674068,B,1.940468027,15.50036555,0\\r\\n1738988,B,2.01233226,14.38311429,0\\r\\n1228981,A,2.035496585,15.974715,0\\r\\n1804785,A,2.027969696,16.15104768,0\\r\\n1605700,A,1.973809329,15.35724588,0\\r\\n1067943,B,1.936344975,12.01034306,1\\r\\n1333321,B,1.90612599,13.93413397,0\\r\\n1860837,A,2.020977952,14.63490977,0\\r\\n1495538,B,1.894933344,14.54419374,0\\r\\n1553039,A,2.039718635,13.0287151,0\\r\\n1449592,A,2.02684951,15.94171536,1\\r\\n1891188,B,2.044775412,14.67020095,0\\r\\n1399965,A,2.017148345,13.10392854,0\\r\\n1916250,B,1.945092291,13.8825236,0\\r\\n1801653,A,2.031361305,14.33509675,0\\r\\n1389558,B,1.99624416,15.40795601,0\\r\\n1818883,B,1.99881087,14.41085426,0\\r\\n1483738,B,1.923609738,14.77470295,0\\r\\n1540463,B,1.904362892,13.70432078,1\\r\\n1797446,B,2.008929587,12.12917639,0\\r\\n1402134,a,1.981286884,14.60735658,1\\r\\n1550962,B,1.969014657,14.38814549,0\\r\\n1097751,B,2.059548244,12.40977036,0\\r\\n1603232,A,1.974406725,12.40551329,0\\r\\n1887441,B,2.021695269,12.66233851,0\\r\\n1928299,A,1.985235209,12.71031928,0\\r\\n1962045,A,2.014941524,13.38841793,0\\r\\n1898584,A,1.952459076,12.41138551,0\\r\\n1857172,B,1.97724698,15.79150744,0\\r\\n1601183,B,1.966538063,15.6415975,1\\r\\n1005627,A,2.002187208,15.40942351,0\\r\\n1709863,B,1.929121593,11.75108695,0\\r\\n1154443,B,2.097540677,13.77058834,1\\r\\n1145484,B,2.050947269,12.72795423,0\\r\\n1495810,B,1.904469453,12.44710761,0\\r\\n1973466,B,2.058643506,14.95957961,1\\r\\n1379146,B,2.039233437,15.95130782,0\\r\\n1685097,B,1.986664577,13.87778818,0\\r\\n1123036,B,2.098138387,15.44565451,0\\r\\n1204609,A,2.04825213,14.07222171,0\\r\\n1370165,B,2.028337836,15.95310322,1\\r\\n1424636,A,2.047334127,14.78560271,0\\r\\n1390010,B,1.990249745,12.05083325,0\\r\\n1183006,B,1.892876965,12.94102379,0\\r\\n1645988,B,2.045377601,15.02814804,0\\r\\n1392319,B,1.964313445,12.07760041,0\\r\\n1122545,A,1.958975706,15.4077526,0\\r\\n1527336,B,2.006251001,14.25153858,0\\r\\n1360836,A,2.036737975,16.02639388,1\\r\\n1786577,A,2.015111166,13.2505907,0\\r\\n1648965,A,2.004369556,13.2650122,1\\r\\n1153589,A,2.001898849,14.76703358,0\\r\\n1229577,A,1.964057922,14.47886122,0\\r\\n1255978,B,1.992955584,12.44640906,1\\r\\n1925047,A,2.022823854,14.5791678,0\\r\\n1869654,B,1.902837678,11.76551212,0\\r\\n1716617,B,1.94657858,13.12739376,0\\r\\n1071264,B,2.005583157,15.19987822,0\\r\\n1749856,B,1.917328,13.25108221,0\\r\\n1032103,B,2.044139443,15.6492681,0\\r\\n1386095,A,1.960500424,14.44794818,0\\r\\n1555734,B,2.016954809,14.39217097,0\\r\\n1221299,B,2.061301011,14.43075733,0\\r\\n1319005,A,2.018737172,14.18139378,0\\r\\n1020916,A,2.033251414,14.36299738,0\\r\\n1273351,B,2.088504198,13.0401665,1\\r\\n1631054,A,2.006394936,13.10483656,0\\r\\n1589664,B,2.063342621,13.73251785,0\\r\\n1087717,B,2.068528507,15.9489429,1\\r\\n1131374,A,2.002268849,14.28278663,0\\r\\n1459577,B,1.956529931,13.28697665,0\\r\\n1091747,B,1.908783415,14.85899232,0\\r\\n1829105,B,1.988268308,14.16089539,0\\r\\n1143173,B,1.912991967,13.06218854,1\\r\\n1733988,B,1.978506889,12.04322178,0\\r\\n1457086,A,2.049948585,13.89155308,0\\r\\n1354144,B,2.088358677,15.17357717,0\\r\\n1504353,A,2.015661513,12.6458086,0\\r\\n1961281,B,1.945188551,15.2750353,0\\r\\n1987764,A,1.979553659,12.9975441,0\\r\\n1147520,A,1.993863053,14.91887374,0\\r\\n1989609,B,2.058285397,13.4087056,0\\r\\n1130954,B,2.017460998,15.3564869,0\\r\\n1497220,A,2.001453037,13.73382905,0\\r\\n1872626,B,2.002061956,15.71581939,0\\r\\n1581998,B,1.975415449,12.47909984,0\\r\\n1659764,B,2.026701719,12.34710837,0\\r\\n1945686,A,1.985210923,13.81154218,0\\r\\n1217183,A,1.975248754,15.44175207,0\\r\\n1349113,A,2.011941259,13.3730458,0\\r\\n1520300,B,1.943883144,12.51910233,1\\r\\n1656482,A,1.993017428,15.46868723,0\\r\\n1222073,A,1.974538852,14.24909565,0\\r\\n1272076,B,1.974851422,14.1755257,1\\r\\n1520410,B,1.991623101,13.46071929,0\\r\\n1226204,B,1.935332767,12.18906498,1\\r\\n1483198,a,2.007042514,13.77504667,1'}"
            ]
          },
          "metadata": {},
          "execution_count": 3
        }
      ],
      "source": [
        "from google.colab import files\n",
        "files.upload()"
      ]
    },
    {
      "cell_type": "code",
      "source": [
        "import warnings\n",
        "warnings.filterwarnings(\"ignore\")\n",
        "\n",
        "import pandas as pd\n",
        "import numpy as np\n",
        "import seaborn as sns\n",
        "import matplotlib.pyplot as plt\n",
        "from scipy.stats import binom\n",
        "from scipy.stats import poisson\n",
        "from scipy.stats import norm\n",
        "import scipy.stats as stats\n",
        "df = pd.read_csv('/content/Quality Assessment.dataset.csv')"
      ],
      "metadata": {
        "id": "md9NX48BxdZZ"
      },
      "execution_count": 4,
      "outputs": []
    },
    {
      "cell_type": "code",
      "source": [
        "df.head()"
      ],
      "metadata": {
        "colab": {
          "base_uri": "https://localhost:8080/",
          "height": 206
        },
        "id": "8TdLtBxHhDDU",
        "outputId": "0d394c05-7d03-4398-9e9c-c898613ea5b2"
      },
      "execution_count": 5,
      "outputs": [
        {
          "output_type": "execute_result",
          "data": {
            "text/plain": [
              "        Id Assembly Line  Quantity (lts.)  CO2 dissolved  Time limit Crossed\n",
              "0  1263945             B         1.971072      14.401617                   0\n",
              "1  1828129             B         2.073388      14.137750                   0\n",
              "2  1871804             A         2.019492      14.774384                   0\n",
              "3  1128634             A         2.004422      15.130565                   0\n",
              "4  1848595             B         2.025784      15.756478                   0"
            ],
            "text/html": [
              "\n",
              "  <div id=\"df-8b9e9c6d-2a8c-48d9-af1d-1dc4af0b388f\" class=\"colab-df-container\">\n",
              "    <div>\n",
              "<style scoped>\n",
              "    .dataframe tbody tr th:only-of-type {\n",
              "        vertical-align: middle;\n",
              "    }\n",
              "\n",
              "    .dataframe tbody tr th {\n",
              "        vertical-align: top;\n",
              "    }\n",
              "\n",
              "    .dataframe thead th {\n",
              "        text-align: right;\n",
              "    }\n",
              "</style>\n",
              "<table border=\"1\" class=\"dataframe\">\n",
              "  <thead>\n",
              "    <tr style=\"text-align: right;\">\n",
              "      <th></th>\n",
              "      <th>Id</th>\n",
              "      <th>Assembly Line</th>\n",
              "      <th>Quantity (lts.)</th>\n",
              "      <th>CO2 dissolved</th>\n",
              "      <th>Time limit Crossed</th>\n",
              "    </tr>\n",
              "  </thead>\n",
              "  <tbody>\n",
              "    <tr>\n",
              "      <th>0</th>\n",
              "      <td>1263945</td>\n",
              "      <td>B</td>\n",
              "      <td>1.971072</td>\n",
              "      <td>14.401617</td>\n",
              "      <td>0</td>\n",
              "    </tr>\n",
              "    <tr>\n",
              "      <th>1</th>\n",
              "      <td>1828129</td>\n",
              "      <td>B</td>\n",
              "      <td>2.073388</td>\n",
              "      <td>14.137750</td>\n",
              "      <td>0</td>\n",
              "    </tr>\n",
              "    <tr>\n",
              "      <th>2</th>\n",
              "      <td>1871804</td>\n",
              "      <td>A</td>\n",
              "      <td>2.019492</td>\n",
              "      <td>14.774384</td>\n",
              "      <td>0</td>\n",
              "    </tr>\n",
              "    <tr>\n",
              "      <th>3</th>\n",
              "      <td>1128634</td>\n",
              "      <td>A</td>\n",
              "      <td>2.004422</td>\n",
              "      <td>15.130565</td>\n",
              "      <td>0</td>\n",
              "    </tr>\n",
              "    <tr>\n",
              "      <th>4</th>\n",
              "      <td>1848595</td>\n",
              "      <td>B</td>\n",
              "      <td>2.025784</td>\n",
              "      <td>15.756478</td>\n",
              "      <td>0</td>\n",
              "    </tr>\n",
              "  </tbody>\n",
              "</table>\n",
              "</div>\n",
              "    <div class=\"colab-df-buttons\">\n",
              "\n",
              "  <div class=\"colab-df-container\">\n",
              "    <button class=\"colab-df-convert\" onclick=\"convertToInteractive('df-8b9e9c6d-2a8c-48d9-af1d-1dc4af0b388f')\"\n",
              "            title=\"Convert this dataframe to an interactive table.\"\n",
              "            style=\"display:none;\">\n",
              "\n",
              "  <svg xmlns=\"http://www.w3.org/2000/svg\" height=\"24px\" viewBox=\"0 -960 960 960\">\n",
              "    <path d=\"M120-120v-720h720v720H120Zm60-500h600v-160H180v160Zm220 220h160v-160H400v160Zm0 220h160v-160H400v160ZM180-400h160v-160H180v160Zm440 0h160v-160H620v160ZM180-180h160v-160H180v160Zm440 0h160v-160H620v160Z\"/>\n",
              "  </svg>\n",
              "    </button>\n",
              "\n",
              "  <style>\n",
              "    .colab-df-container {\n",
              "      display:flex;\n",
              "      gap: 12px;\n",
              "    }\n",
              "\n",
              "    .colab-df-convert {\n",
              "      background-color: #E8F0FE;\n",
              "      border: none;\n",
              "      border-radius: 50%;\n",
              "      cursor: pointer;\n",
              "      display: none;\n",
              "      fill: #1967D2;\n",
              "      height: 32px;\n",
              "      padding: 0 0 0 0;\n",
              "      width: 32px;\n",
              "    }\n",
              "\n",
              "    .colab-df-convert:hover {\n",
              "      background-color: #E2EBFA;\n",
              "      box-shadow: 0px 1px 2px rgba(60, 64, 67, 0.3), 0px 1px 3px 1px rgba(60, 64, 67, 0.15);\n",
              "      fill: #174EA6;\n",
              "    }\n",
              "\n",
              "    .colab-df-buttons div {\n",
              "      margin-bottom: 4px;\n",
              "    }\n",
              "\n",
              "    [theme=dark] .colab-df-convert {\n",
              "      background-color: #3B4455;\n",
              "      fill: #D2E3FC;\n",
              "    }\n",
              "\n",
              "    [theme=dark] .colab-df-convert:hover {\n",
              "      background-color: #434B5C;\n",
              "      box-shadow: 0px 1px 3px 1px rgba(0, 0, 0, 0.15);\n",
              "      filter: drop-shadow(0px 1px 2px rgba(0, 0, 0, 0.3));\n",
              "      fill: #FFFFFF;\n",
              "    }\n",
              "  </style>\n",
              "\n",
              "    <script>\n",
              "      const buttonEl =\n",
              "        document.querySelector('#df-8b9e9c6d-2a8c-48d9-af1d-1dc4af0b388f button.colab-df-convert');\n",
              "      buttonEl.style.display =\n",
              "        google.colab.kernel.accessAllowed ? 'block' : 'none';\n",
              "\n",
              "      async function convertToInteractive(key) {\n",
              "        const element = document.querySelector('#df-8b9e9c6d-2a8c-48d9-af1d-1dc4af0b388f');\n",
              "        const dataTable =\n",
              "          await google.colab.kernel.invokeFunction('convertToInteractive',\n",
              "                                                    [key], {});\n",
              "        if (!dataTable) return;\n",
              "\n",
              "        const docLinkHtml = 'Like what you see? Visit the ' +\n",
              "          '<a target=\"_blank\" href=https://colab.research.google.com/notebooks/data_table.ipynb>data table notebook</a>'\n",
              "          + ' to learn more about interactive tables.';\n",
              "        element.innerHTML = '';\n",
              "        dataTable['output_type'] = 'display_data';\n",
              "        await google.colab.output.renderOutput(dataTable, element);\n",
              "        const docLink = document.createElement('div');\n",
              "        docLink.innerHTML = docLinkHtml;\n",
              "        element.appendChild(docLink);\n",
              "      }\n",
              "    </script>\n",
              "  </div>\n",
              "\n",
              "\n",
              "<div id=\"df-396d0e0d-0f2a-4dd1-961d-d5abd9baad31\">\n",
              "  <button class=\"colab-df-quickchart\" onclick=\"quickchart('df-396d0e0d-0f2a-4dd1-961d-d5abd9baad31')\"\n",
              "            title=\"Suggest charts\"\n",
              "            style=\"display:none;\">\n",
              "\n",
              "<svg xmlns=\"http://www.w3.org/2000/svg\" height=\"24px\"viewBox=\"0 0 24 24\"\n",
              "     width=\"24px\">\n",
              "    <g>\n",
              "        <path d=\"M19 3H5c-1.1 0-2 .9-2 2v14c0 1.1.9 2 2 2h14c1.1 0 2-.9 2-2V5c0-1.1-.9-2-2-2zM9 17H7v-7h2v7zm4 0h-2V7h2v10zm4 0h-2v-4h2v4z\"/>\n",
              "    </g>\n",
              "</svg>\n",
              "  </button>\n",
              "\n",
              "<style>\n",
              "  .colab-df-quickchart {\n",
              "      --bg-color: #E8F0FE;\n",
              "      --fill-color: #1967D2;\n",
              "      --hover-bg-color: #E2EBFA;\n",
              "      --hover-fill-color: #174EA6;\n",
              "      --disabled-fill-color: #AAA;\n",
              "      --disabled-bg-color: #DDD;\n",
              "  }\n",
              "\n",
              "  [theme=dark] .colab-df-quickchart {\n",
              "      --bg-color: #3B4455;\n",
              "      --fill-color: #D2E3FC;\n",
              "      --hover-bg-color: #434B5C;\n",
              "      --hover-fill-color: #FFFFFF;\n",
              "      --disabled-bg-color: #3B4455;\n",
              "      --disabled-fill-color: #666;\n",
              "  }\n",
              "\n",
              "  .colab-df-quickchart {\n",
              "    background-color: var(--bg-color);\n",
              "    border: none;\n",
              "    border-radius: 50%;\n",
              "    cursor: pointer;\n",
              "    display: none;\n",
              "    fill: var(--fill-color);\n",
              "    height: 32px;\n",
              "    padding: 0;\n",
              "    width: 32px;\n",
              "  }\n",
              "\n",
              "  .colab-df-quickchart:hover {\n",
              "    background-color: var(--hover-bg-color);\n",
              "    box-shadow: 0 1px 2px rgba(60, 64, 67, 0.3), 0 1px 3px 1px rgba(60, 64, 67, 0.15);\n",
              "    fill: var(--button-hover-fill-color);\n",
              "  }\n",
              "\n",
              "  .colab-df-quickchart-complete:disabled,\n",
              "  .colab-df-quickchart-complete:disabled:hover {\n",
              "    background-color: var(--disabled-bg-color);\n",
              "    fill: var(--disabled-fill-color);\n",
              "    box-shadow: none;\n",
              "  }\n",
              "\n",
              "  .colab-df-spinner {\n",
              "    border: 2px solid var(--fill-color);\n",
              "    border-color: transparent;\n",
              "    border-bottom-color: var(--fill-color);\n",
              "    animation:\n",
              "      spin 1s steps(1) infinite;\n",
              "  }\n",
              "\n",
              "  @keyframes spin {\n",
              "    0% {\n",
              "      border-color: transparent;\n",
              "      border-bottom-color: var(--fill-color);\n",
              "      border-left-color: var(--fill-color);\n",
              "    }\n",
              "    20% {\n",
              "      border-color: transparent;\n",
              "      border-left-color: var(--fill-color);\n",
              "      border-top-color: var(--fill-color);\n",
              "    }\n",
              "    30% {\n",
              "      border-color: transparent;\n",
              "      border-left-color: var(--fill-color);\n",
              "      border-top-color: var(--fill-color);\n",
              "      border-right-color: var(--fill-color);\n",
              "    }\n",
              "    40% {\n",
              "      border-color: transparent;\n",
              "      border-right-color: var(--fill-color);\n",
              "      border-top-color: var(--fill-color);\n",
              "    }\n",
              "    60% {\n",
              "      border-color: transparent;\n",
              "      border-right-color: var(--fill-color);\n",
              "    }\n",
              "    80% {\n",
              "      border-color: transparent;\n",
              "      border-right-color: var(--fill-color);\n",
              "      border-bottom-color: var(--fill-color);\n",
              "    }\n",
              "    90% {\n",
              "      border-color: transparent;\n",
              "      border-bottom-color: var(--fill-color);\n",
              "    }\n",
              "  }\n",
              "</style>\n",
              "\n",
              "  <script>\n",
              "    async function quickchart(key) {\n",
              "      const quickchartButtonEl =\n",
              "        document.querySelector('#' + key + ' button');\n",
              "      quickchartButtonEl.disabled = true;  // To prevent multiple clicks.\n",
              "      quickchartButtonEl.classList.add('colab-df-spinner');\n",
              "      try {\n",
              "        const charts = await google.colab.kernel.invokeFunction(\n",
              "            'suggestCharts', [key], {});\n",
              "      } catch (error) {\n",
              "        console.error('Error during call to suggestCharts:', error);\n",
              "      }\n",
              "      quickchartButtonEl.classList.remove('colab-df-spinner');\n",
              "      quickchartButtonEl.classList.add('colab-df-quickchart-complete');\n",
              "    }\n",
              "    (() => {\n",
              "      let quickchartButtonEl =\n",
              "        document.querySelector('#df-396d0e0d-0f2a-4dd1-961d-d5abd9baad31 button');\n",
              "      quickchartButtonEl.style.display =\n",
              "        google.colab.kernel.accessAllowed ? 'block' : 'none';\n",
              "    })();\n",
              "  </script>\n",
              "</div>\n",
              "    </div>\n",
              "  </div>\n"
            ],
            "application/vnd.google.colaboratory.intrinsic+json": {
              "type": "dataframe",
              "variable_name": "df",
              "summary": "{\n  \"name\": \"df\",\n  \"rows\": 299,\n  \"fields\": [\n    {\n      \"column\": \"Id\",\n      \"properties\": {\n        \"dtype\": \"number\",\n        \"std\": 291348,\n        \"min\": 1004988,\n        \"max\": 1999475,\n        \"num_unique_values\": 299,\n        \"samples\": [\n          1987764,\n          1319005,\n          1616528\n        ],\n        \"semantic_type\": \"\",\n        \"description\": \"\"\n      }\n    },\n    {\n      \"column\": \"Assembly Line\",\n      \"properties\": {\n        \"dtype\": \"category\",\n        \"num_unique_values\": 4,\n        \"samples\": [\n          \"A\",\n          \"a\",\n          \"B\"\n        ],\n        \"semantic_type\": \"\",\n        \"description\": \"\"\n      }\n    },\n    {\n      \"column\": \"Quantity (lts.)\",\n      \"properties\": {\n        \"dtype\": \"number\",\n        \"std\": 0.0485174222137211,\n        \"min\": 1.891834573,\n        \"max\": 2.109917367,\n        \"num_unique_values\": 293,\n        \"samples\": [\n          1.979790334,\n          2.033251414,\n          2.033242768\n        ],\n        \"semantic_type\": \"\",\n        \"description\": \"\"\n      }\n    },\n    {\n      \"column\": \"CO2 dissolved\",\n      \"properties\": {\n        \"dtype\": \"number\",\n        \"std\": 15.322284835450642,\n        \"min\": 2.25345405,\n        \"max\": 150.180978,\n        \"num_unique_values\": 299,\n        \"samples\": [\n          12.9975441,\n          14.18139378,\n          14.44107578\n        ],\n        \"semantic_type\": \"\",\n        \"description\": \"\"\n      }\n    },\n    {\n      \"column\": \"Time limit Crossed\",\n      \"properties\": {\n        \"dtype\": \"number\",\n        \"std\": 0,\n        \"min\": 0,\n        \"max\": 1,\n        \"num_unique_values\": 2,\n        \"samples\": [\n          1,\n          0\n        ],\n        \"semantic_type\": \"\",\n        \"description\": \"\"\n      }\n    }\n  ]\n}"
            }
          },
          "metadata": {},
          "execution_count": 5
        }
      ]
    },
    {
      "cell_type": "code",
      "source": [
        "df.describe()"
      ],
      "metadata": {
        "colab": {
          "base_uri": "https://localhost:8080/",
          "height": 300
        },
        "id": "06ZrGv_B1fd1",
        "outputId": "53017d9f-49d8-4eb2-bfb8-286ab71fc792"
      },
      "execution_count": 6,
      "outputs": [
        {
          "output_type": "execute_result",
          "data": {
            "text/plain": [
              "                 Id  Quantity (lts.)  CO2 dissolved  Time limit Crossed\n",
              "count  2.990000e+02       293.000000     299.000000          299.000000\n",
              "mean   1.506447e+06         1.997992      15.983235            0.180602\n",
              "std    2.913488e+05         0.048517      15.322285            0.385333\n",
              "min    1.004988e+06         1.891835       2.253454            0.000000\n",
              "25%    1.240662e+06         1.968372      13.109196            0.000000\n",
              "50%    1.520300e+06         1.997947      14.064673            0.000000\n",
              "75%    1.747329e+06         2.030391      15.139656            0.000000\n",
              "max    1.999475e+06         2.109917     150.180978            1.000000"
            ],
            "text/html": [
              "\n",
              "  <div id=\"df-42de0d7b-9173-4ed4-9b1f-c871e85e72d0\" class=\"colab-df-container\">\n",
              "    <div>\n",
              "<style scoped>\n",
              "    .dataframe tbody tr th:only-of-type {\n",
              "        vertical-align: middle;\n",
              "    }\n",
              "\n",
              "    .dataframe tbody tr th {\n",
              "        vertical-align: top;\n",
              "    }\n",
              "\n",
              "    .dataframe thead th {\n",
              "        text-align: right;\n",
              "    }\n",
              "</style>\n",
              "<table border=\"1\" class=\"dataframe\">\n",
              "  <thead>\n",
              "    <tr style=\"text-align: right;\">\n",
              "      <th></th>\n",
              "      <th>Id</th>\n",
              "      <th>Quantity (lts.)</th>\n",
              "      <th>CO2 dissolved</th>\n",
              "      <th>Time limit Crossed</th>\n",
              "    </tr>\n",
              "  </thead>\n",
              "  <tbody>\n",
              "    <tr>\n",
              "      <th>count</th>\n",
              "      <td>2.990000e+02</td>\n",
              "      <td>293.000000</td>\n",
              "      <td>299.000000</td>\n",
              "      <td>299.000000</td>\n",
              "    </tr>\n",
              "    <tr>\n",
              "      <th>mean</th>\n",
              "      <td>1.506447e+06</td>\n",
              "      <td>1.997992</td>\n",
              "      <td>15.983235</td>\n",
              "      <td>0.180602</td>\n",
              "    </tr>\n",
              "    <tr>\n",
              "      <th>std</th>\n",
              "      <td>2.913488e+05</td>\n",
              "      <td>0.048517</td>\n",
              "      <td>15.322285</td>\n",
              "      <td>0.385333</td>\n",
              "    </tr>\n",
              "    <tr>\n",
              "      <th>min</th>\n",
              "      <td>1.004988e+06</td>\n",
              "      <td>1.891835</td>\n",
              "      <td>2.253454</td>\n",
              "      <td>0.000000</td>\n",
              "    </tr>\n",
              "    <tr>\n",
              "      <th>25%</th>\n",
              "      <td>1.240662e+06</td>\n",
              "      <td>1.968372</td>\n",
              "      <td>13.109196</td>\n",
              "      <td>0.000000</td>\n",
              "    </tr>\n",
              "    <tr>\n",
              "      <th>50%</th>\n",
              "      <td>1.520300e+06</td>\n",
              "      <td>1.997947</td>\n",
              "      <td>14.064673</td>\n",
              "      <td>0.000000</td>\n",
              "    </tr>\n",
              "    <tr>\n",
              "      <th>75%</th>\n",
              "      <td>1.747329e+06</td>\n",
              "      <td>2.030391</td>\n",
              "      <td>15.139656</td>\n",
              "      <td>0.000000</td>\n",
              "    </tr>\n",
              "    <tr>\n",
              "      <th>max</th>\n",
              "      <td>1.999475e+06</td>\n",
              "      <td>2.109917</td>\n",
              "      <td>150.180978</td>\n",
              "      <td>1.000000</td>\n",
              "    </tr>\n",
              "  </tbody>\n",
              "</table>\n",
              "</div>\n",
              "    <div class=\"colab-df-buttons\">\n",
              "\n",
              "  <div class=\"colab-df-container\">\n",
              "    <button class=\"colab-df-convert\" onclick=\"convertToInteractive('df-42de0d7b-9173-4ed4-9b1f-c871e85e72d0')\"\n",
              "            title=\"Convert this dataframe to an interactive table.\"\n",
              "            style=\"display:none;\">\n",
              "\n",
              "  <svg xmlns=\"http://www.w3.org/2000/svg\" height=\"24px\" viewBox=\"0 -960 960 960\">\n",
              "    <path d=\"M120-120v-720h720v720H120Zm60-500h600v-160H180v160Zm220 220h160v-160H400v160Zm0 220h160v-160H400v160ZM180-400h160v-160H180v160Zm440 0h160v-160H620v160ZM180-180h160v-160H180v160Zm440 0h160v-160H620v160Z\"/>\n",
              "  </svg>\n",
              "    </button>\n",
              "\n",
              "  <style>\n",
              "    .colab-df-container {\n",
              "      display:flex;\n",
              "      gap: 12px;\n",
              "    }\n",
              "\n",
              "    .colab-df-convert {\n",
              "      background-color: #E8F0FE;\n",
              "      border: none;\n",
              "      border-radius: 50%;\n",
              "      cursor: pointer;\n",
              "      display: none;\n",
              "      fill: #1967D2;\n",
              "      height: 32px;\n",
              "      padding: 0 0 0 0;\n",
              "      width: 32px;\n",
              "    }\n",
              "\n",
              "    .colab-df-convert:hover {\n",
              "      background-color: #E2EBFA;\n",
              "      box-shadow: 0px 1px 2px rgba(60, 64, 67, 0.3), 0px 1px 3px 1px rgba(60, 64, 67, 0.15);\n",
              "      fill: #174EA6;\n",
              "    }\n",
              "\n",
              "    .colab-df-buttons div {\n",
              "      margin-bottom: 4px;\n",
              "    }\n",
              "\n",
              "    [theme=dark] .colab-df-convert {\n",
              "      background-color: #3B4455;\n",
              "      fill: #D2E3FC;\n",
              "    }\n",
              "\n",
              "    [theme=dark] .colab-df-convert:hover {\n",
              "      background-color: #434B5C;\n",
              "      box-shadow: 0px 1px 3px 1px rgba(0, 0, 0, 0.15);\n",
              "      filter: drop-shadow(0px 1px 2px rgba(0, 0, 0, 0.3));\n",
              "      fill: #FFFFFF;\n",
              "    }\n",
              "  </style>\n",
              "\n",
              "    <script>\n",
              "      const buttonEl =\n",
              "        document.querySelector('#df-42de0d7b-9173-4ed4-9b1f-c871e85e72d0 button.colab-df-convert');\n",
              "      buttonEl.style.display =\n",
              "        google.colab.kernel.accessAllowed ? 'block' : 'none';\n",
              "\n",
              "      async function convertToInteractive(key) {\n",
              "        const element = document.querySelector('#df-42de0d7b-9173-4ed4-9b1f-c871e85e72d0');\n",
              "        const dataTable =\n",
              "          await google.colab.kernel.invokeFunction('convertToInteractive',\n",
              "                                                    [key], {});\n",
              "        if (!dataTable) return;\n",
              "\n",
              "        const docLinkHtml = 'Like what you see? Visit the ' +\n",
              "          '<a target=\"_blank\" href=https://colab.research.google.com/notebooks/data_table.ipynb>data table notebook</a>'\n",
              "          + ' to learn more about interactive tables.';\n",
              "        element.innerHTML = '';\n",
              "        dataTable['output_type'] = 'display_data';\n",
              "        await google.colab.output.renderOutput(dataTable, element);\n",
              "        const docLink = document.createElement('div');\n",
              "        docLink.innerHTML = docLinkHtml;\n",
              "        element.appendChild(docLink);\n",
              "      }\n",
              "    </script>\n",
              "  </div>\n",
              "\n",
              "\n",
              "<div id=\"df-b5c1169f-c514-4408-8316-a2bafa9340b2\">\n",
              "  <button class=\"colab-df-quickchart\" onclick=\"quickchart('df-b5c1169f-c514-4408-8316-a2bafa9340b2')\"\n",
              "            title=\"Suggest charts\"\n",
              "            style=\"display:none;\">\n",
              "\n",
              "<svg xmlns=\"http://www.w3.org/2000/svg\" height=\"24px\"viewBox=\"0 0 24 24\"\n",
              "     width=\"24px\">\n",
              "    <g>\n",
              "        <path d=\"M19 3H5c-1.1 0-2 .9-2 2v14c0 1.1.9 2 2 2h14c1.1 0 2-.9 2-2V5c0-1.1-.9-2-2-2zM9 17H7v-7h2v7zm4 0h-2V7h2v10zm4 0h-2v-4h2v4z\"/>\n",
              "    </g>\n",
              "</svg>\n",
              "  </button>\n",
              "\n",
              "<style>\n",
              "  .colab-df-quickchart {\n",
              "      --bg-color: #E8F0FE;\n",
              "      --fill-color: #1967D2;\n",
              "      --hover-bg-color: #E2EBFA;\n",
              "      --hover-fill-color: #174EA6;\n",
              "      --disabled-fill-color: #AAA;\n",
              "      --disabled-bg-color: #DDD;\n",
              "  }\n",
              "\n",
              "  [theme=dark] .colab-df-quickchart {\n",
              "      --bg-color: #3B4455;\n",
              "      --fill-color: #D2E3FC;\n",
              "      --hover-bg-color: #434B5C;\n",
              "      --hover-fill-color: #FFFFFF;\n",
              "      --disabled-bg-color: #3B4455;\n",
              "      --disabled-fill-color: #666;\n",
              "  }\n",
              "\n",
              "  .colab-df-quickchart {\n",
              "    background-color: var(--bg-color);\n",
              "    border: none;\n",
              "    border-radius: 50%;\n",
              "    cursor: pointer;\n",
              "    display: none;\n",
              "    fill: var(--fill-color);\n",
              "    height: 32px;\n",
              "    padding: 0;\n",
              "    width: 32px;\n",
              "  }\n",
              "\n",
              "  .colab-df-quickchart:hover {\n",
              "    background-color: var(--hover-bg-color);\n",
              "    box-shadow: 0 1px 2px rgba(60, 64, 67, 0.3), 0 1px 3px 1px rgba(60, 64, 67, 0.15);\n",
              "    fill: var(--button-hover-fill-color);\n",
              "  }\n",
              "\n",
              "  .colab-df-quickchart-complete:disabled,\n",
              "  .colab-df-quickchart-complete:disabled:hover {\n",
              "    background-color: var(--disabled-bg-color);\n",
              "    fill: var(--disabled-fill-color);\n",
              "    box-shadow: none;\n",
              "  }\n",
              "\n",
              "  .colab-df-spinner {\n",
              "    border: 2px solid var(--fill-color);\n",
              "    border-color: transparent;\n",
              "    border-bottom-color: var(--fill-color);\n",
              "    animation:\n",
              "      spin 1s steps(1) infinite;\n",
              "  }\n",
              "\n",
              "  @keyframes spin {\n",
              "    0% {\n",
              "      border-color: transparent;\n",
              "      border-bottom-color: var(--fill-color);\n",
              "      border-left-color: var(--fill-color);\n",
              "    }\n",
              "    20% {\n",
              "      border-color: transparent;\n",
              "      border-left-color: var(--fill-color);\n",
              "      border-top-color: var(--fill-color);\n",
              "    }\n",
              "    30% {\n",
              "      border-color: transparent;\n",
              "      border-left-color: var(--fill-color);\n",
              "      border-top-color: var(--fill-color);\n",
              "      border-right-color: var(--fill-color);\n",
              "    }\n",
              "    40% {\n",
              "      border-color: transparent;\n",
              "      border-right-color: var(--fill-color);\n",
              "      border-top-color: var(--fill-color);\n",
              "    }\n",
              "    60% {\n",
              "      border-color: transparent;\n",
              "      border-right-color: var(--fill-color);\n",
              "    }\n",
              "    80% {\n",
              "      border-color: transparent;\n",
              "      border-right-color: var(--fill-color);\n",
              "      border-bottom-color: var(--fill-color);\n",
              "    }\n",
              "    90% {\n",
              "      border-color: transparent;\n",
              "      border-bottom-color: var(--fill-color);\n",
              "    }\n",
              "  }\n",
              "</style>\n",
              "\n",
              "  <script>\n",
              "    async function quickchart(key) {\n",
              "      const quickchartButtonEl =\n",
              "        document.querySelector('#' + key + ' button');\n",
              "      quickchartButtonEl.disabled = true;  // To prevent multiple clicks.\n",
              "      quickchartButtonEl.classList.add('colab-df-spinner');\n",
              "      try {\n",
              "        const charts = await google.colab.kernel.invokeFunction(\n",
              "            'suggestCharts', [key], {});\n",
              "      } catch (error) {\n",
              "        console.error('Error during call to suggestCharts:', error);\n",
              "      }\n",
              "      quickchartButtonEl.classList.remove('colab-df-spinner');\n",
              "      quickchartButtonEl.classList.add('colab-df-quickchart-complete');\n",
              "    }\n",
              "    (() => {\n",
              "      let quickchartButtonEl =\n",
              "        document.querySelector('#df-b5c1169f-c514-4408-8316-a2bafa9340b2 button');\n",
              "      quickchartButtonEl.style.display =\n",
              "        google.colab.kernel.accessAllowed ? 'block' : 'none';\n",
              "    })();\n",
              "  </script>\n",
              "</div>\n",
              "    </div>\n",
              "  </div>\n"
            ],
            "application/vnd.google.colaboratory.intrinsic+json": {
              "type": "dataframe",
              "summary": "{\n  \"name\": \"df\",\n  \"rows\": 8,\n  \"fields\": [\n    {\n      \"column\": \"Id\",\n      \"properties\": {\n        \"dtype\": \"number\",\n        \"std\": 699938.0101817764,\n        \"min\": 299.0,\n        \"max\": 1999475.0,\n        \"num_unique_values\": 8,\n        \"samples\": [\n          1506446.6387959865,\n          1520300.0,\n          299.0\n        ],\n        \"semantic_type\": \"\",\n        \"description\": \"\"\n      }\n    },\n    {\n      \"column\": \"Quantity (lts.)\",\n      \"properties\": {\n        \"dtype\": \"number\",\n        \"std\": 102.9850609829051,\n        \"min\": 0.0485174222137211,\n        \"max\": 293.0,\n        \"num_unique_values\": 8,\n        \"samples\": [\n          1.9979921506177474,\n          1.997947127,\n          293.0\n        ],\n        \"semantic_type\": \"\",\n        \"description\": \"\"\n      }\n    },\n    {\n      \"column\": \"CO2 dissolved\",\n      \"properties\": {\n        \"dtype\": \"number\",\n        \"std\": 105.95778907159972,\n        \"min\": 2.25345405,\n        \"max\": 299.0,\n        \"num_unique_values\": 8,\n        \"samples\": [\n          15.983235382207358,\n          14.06467265,\n          299.0\n        ],\n        \"semantic_type\": \"\",\n        \"description\": \"\"\n      }\n    },\n    {\n      \"column\": \"Time limit Crossed\",\n      \"properties\": {\n        \"dtype\": \"number\",\n        \"std\": 105.63393389999102,\n        \"min\": 0.0,\n        \"max\": 299.0,\n        \"num_unique_values\": 5,\n        \"samples\": [\n          0.1806020066889632,\n          1.0,\n          0.38533299309354435\n        ],\n        \"semantic_type\": \"\",\n        \"description\": \"\"\n      }\n    }\n  ]\n}"
            }
          },
          "metadata": {},
          "execution_count": 6
        }
      ]
    },
    {
      "cell_type": "code",
      "source": [
        "df.describe(include='all')"
      ],
      "metadata": {
        "colab": {
          "base_uri": "https://localhost:8080/",
          "height": 394
        },
        "id": "G5FQelGUh6Rp",
        "outputId": "2dfb5b11-d55a-487a-be77-339142d2dd9a"
      },
      "execution_count": 7,
      "outputs": [
        {
          "output_type": "execute_result",
          "data": {
            "text/plain": [
              "                  Id Assembly Line  Quantity (lts.)  CO2 dissolved  \\\n",
              "count   2.990000e+02           299       293.000000     299.000000   \n",
              "unique           NaN             4              NaN            NaN   \n",
              "top              NaN             B              NaN            NaN   \n",
              "freq             NaN           156              NaN            NaN   \n",
              "mean    1.506447e+06           NaN         1.997992      15.983235   \n",
              "std     2.913488e+05           NaN         0.048517      15.322285   \n",
              "min     1.004988e+06           NaN         1.891835       2.253454   \n",
              "25%     1.240662e+06           NaN         1.968372      13.109196   \n",
              "50%     1.520300e+06           NaN         1.997947      14.064673   \n",
              "75%     1.747329e+06           NaN         2.030391      15.139656   \n",
              "max     1.999475e+06           NaN         2.109917     150.180978   \n",
              "\n",
              "        Time limit Crossed  \n",
              "count           299.000000  \n",
              "unique                 NaN  \n",
              "top                    NaN  \n",
              "freq                   NaN  \n",
              "mean              0.180602  \n",
              "std               0.385333  \n",
              "min               0.000000  \n",
              "25%               0.000000  \n",
              "50%               0.000000  \n",
              "75%               0.000000  \n",
              "max               1.000000  "
            ],
            "text/html": [
              "\n",
              "  <div id=\"df-e6e05c8f-c4fd-474f-83e1-c710767ed54b\" class=\"colab-df-container\">\n",
              "    <div>\n",
              "<style scoped>\n",
              "    .dataframe tbody tr th:only-of-type {\n",
              "        vertical-align: middle;\n",
              "    }\n",
              "\n",
              "    .dataframe tbody tr th {\n",
              "        vertical-align: top;\n",
              "    }\n",
              "\n",
              "    .dataframe thead th {\n",
              "        text-align: right;\n",
              "    }\n",
              "</style>\n",
              "<table border=\"1\" class=\"dataframe\">\n",
              "  <thead>\n",
              "    <tr style=\"text-align: right;\">\n",
              "      <th></th>\n",
              "      <th>Id</th>\n",
              "      <th>Assembly Line</th>\n",
              "      <th>Quantity (lts.)</th>\n",
              "      <th>CO2 dissolved</th>\n",
              "      <th>Time limit Crossed</th>\n",
              "    </tr>\n",
              "  </thead>\n",
              "  <tbody>\n",
              "    <tr>\n",
              "      <th>count</th>\n",
              "      <td>2.990000e+02</td>\n",
              "      <td>299</td>\n",
              "      <td>293.000000</td>\n",
              "      <td>299.000000</td>\n",
              "      <td>299.000000</td>\n",
              "    </tr>\n",
              "    <tr>\n",
              "      <th>unique</th>\n",
              "      <td>NaN</td>\n",
              "      <td>4</td>\n",
              "      <td>NaN</td>\n",
              "      <td>NaN</td>\n",
              "      <td>NaN</td>\n",
              "    </tr>\n",
              "    <tr>\n",
              "      <th>top</th>\n",
              "      <td>NaN</td>\n",
              "      <td>B</td>\n",
              "      <td>NaN</td>\n",
              "      <td>NaN</td>\n",
              "      <td>NaN</td>\n",
              "    </tr>\n",
              "    <tr>\n",
              "      <th>freq</th>\n",
              "      <td>NaN</td>\n",
              "      <td>156</td>\n",
              "      <td>NaN</td>\n",
              "      <td>NaN</td>\n",
              "      <td>NaN</td>\n",
              "    </tr>\n",
              "    <tr>\n",
              "      <th>mean</th>\n",
              "      <td>1.506447e+06</td>\n",
              "      <td>NaN</td>\n",
              "      <td>1.997992</td>\n",
              "      <td>15.983235</td>\n",
              "      <td>0.180602</td>\n",
              "    </tr>\n",
              "    <tr>\n",
              "      <th>std</th>\n",
              "      <td>2.913488e+05</td>\n",
              "      <td>NaN</td>\n",
              "      <td>0.048517</td>\n",
              "      <td>15.322285</td>\n",
              "      <td>0.385333</td>\n",
              "    </tr>\n",
              "    <tr>\n",
              "      <th>min</th>\n",
              "      <td>1.004988e+06</td>\n",
              "      <td>NaN</td>\n",
              "      <td>1.891835</td>\n",
              "      <td>2.253454</td>\n",
              "      <td>0.000000</td>\n",
              "    </tr>\n",
              "    <tr>\n",
              "      <th>25%</th>\n",
              "      <td>1.240662e+06</td>\n",
              "      <td>NaN</td>\n",
              "      <td>1.968372</td>\n",
              "      <td>13.109196</td>\n",
              "      <td>0.000000</td>\n",
              "    </tr>\n",
              "    <tr>\n",
              "      <th>50%</th>\n",
              "      <td>1.520300e+06</td>\n",
              "      <td>NaN</td>\n",
              "      <td>1.997947</td>\n",
              "      <td>14.064673</td>\n",
              "      <td>0.000000</td>\n",
              "    </tr>\n",
              "    <tr>\n",
              "      <th>75%</th>\n",
              "      <td>1.747329e+06</td>\n",
              "      <td>NaN</td>\n",
              "      <td>2.030391</td>\n",
              "      <td>15.139656</td>\n",
              "      <td>0.000000</td>\n",
              "    </tr>\n",
              "    <tr>\n",
              "      <th>max</th>\n",
              "      <td>1.999475e+06</td>\n",
              "      <td>NaN</td>\n",
              "      <td>2.109917</td>\n",
              "      <td>150.180978</td>\n",
              "      <td>1.000000</td>\n",
              "    </tr>\n",
              "  </tbody>\n",
              "</table>\n",
              "</div>\n",
              "    <div class=\"colab-df-buttons\">\n",
              "\n",
              "  <div class=\"colab-df-container\">\n",
              "    <button class=\"colab-df-convert\" onclick=\"convertToInteractive('df-e6e05c8f-c4fd-474f-83e1-c710767ed54b')\"\n",
              "            title=\"Convert this dataframe to an interactive table.\"\n",
              "            style=\"display:none;\">\n",
              "\n",
              "  <svg xmlns=\"http://www.w3.org/2000/svg\" height=\"24px\" viewBox=\"0 -960 960 960\">\n",
              "    <path d=\"M120-120v-720h720v720H120Zm60-500h600v-160H180v160Zm220 220h160v-160H400v160Zm0 220h160v-160H400v160ZM180-400h160v-160H180v160Zm440 0h160v-160H620v160ZM180-180h160v-160H180v160Zm440 0h160v-160H620v160Z\"/>\n",
              "  </svg>\n",
              "    </button>\n",
              "\n",
              "  <style>\n",
              "    .colab-df-container {\n",
              "      display:flex;\n",
              "      gap: 12px;\n",
              "    }\n",
              "\n",
              "    .colab-df-convert {\n",
              "      background-color: #E8F0FE;\n",
              "      border: none;\n",
              "      border-radius: 50%;\n",
              "      cursor: pointer;\n",
              "      display: none;\n",
              "      fill: #1967D2;\n",
              "      height: 32px;\n",
              "      padding: 0 0 0 0;\n",
              "      width: 32px;\n",
              "    }\n",
              "\n",
              "    .colab-df-convert:hover {\n",
              "      background-color: #E2EBFA;\n",
              "      box-shadow: 0px 1px 2px rgba(60, 64, 67, 0.3), 0px 1px 3px 1px rgba(60, 64, 67, 0.15);\n",
              "      fill: #174EA6;\n",
              "    }\n",
              "\n",
              "    .colab-df-buttons div {\n",
              "      margin-bottom: 4px;\n",
              "    }\n",
              "\n",
              "    [theme=dark] .colab-df-convert {\n",
              "      background-color: #3B4455;\n",
              "      fill: #D2E3FC;\n",
              "    }\n",
              "\n",
              "    [theme=dark] .colab-df-convert:hover {\n",
              "      background-color: #434B5C;\n",
              "      box-shadow: 0px 1px 3px 1px rgba(0, 0, 0, 0.15);\n",
              "      filter: drop-shadow(0px 1px 2px rgba(0, 0, 0, 0.3));\n",
              "      fill: #FFFFFF;\n",
              "    }\n",
              "  </style>\n",
              "\n",
              "    <script>\n",
              "      const buttonEl =\n",
              "        document.querySelector('#df-e6e05c8f-c4fd-474f-83e1-c710767ed54b button.colab-df-convert');\n",
              "      buttonEl.style.display =\n",
              "        google.colab.kernel.accessAllowed ? 'block' : 'none';\n",
              "\n",
              "      async function convertToInteractive(key) {\n",
              "        const element = document.querySelector('#df-e6e05c8f-c4fd-474f-83e1-c710767ed54b');\n",
              "        const dataTable =\n",
              "          await google.colab.kernel.invokeFunction('convertToInteractive',\n",
              "                                                    [key], {});\n",
              "        if (!dataTable) return;\n",
              "\n",
              "        const docLinkHtml = 'Like what you see? Visit the ' +\n",
              "          '<a target=\"_blank\" href=https://colab.research.google.com/notebooks/data_table.ipynb>data table notebook</a>'\n",
              "          + ' to learn more about interactive tables.';\n",
              "        element.innerHTML = '';\n",
              "        dataTable['output_type'] = 'display_data';\n",
              "        await google.colab.output.renderOutput(dataTable, element);\n",
              "        const docLink = document.createElement('div');\n",
              "        docLink.innerHTML = docLinkHtml;\n",
              "        element.appendChild(docLink);\n",
              "      }\n",
              "    </script>\n",
              "  </div>\n",
              "\n",
              "\n",
              "<div id=\"df-5256d705-1faa-4acf-a64a-db472031b069\">\n",
              "  <button class=\"colab-df-quickchart\" onclick=\"quickchart('df-5256d705-1faa-4acf-a64a-db472031b069')\"\n",
              "            title=\"Suggest charts\"\n",
              "            style=\"display:none;\">\n",
              "\n",
              "<svg xmlns=\"http://www.w3.org/2000/svg\" height=\"24px\"viewBox=\"0 0 24 24\"\n",
              "     width=\"24px\">\n",
              "    <g>\n",
              "        <path d=\"M19 3H5c-1.1 0-2 .9-2 2v14c0 1.1.9 2 2 2h14c1.1 0 2-.9 2-2V5c0-1.1-.9-2-2-2zM9 17H7v-7h2v7zm4 0h-2V7h2v10zm4 0h-2v-4h2v4z\"/>\n",
              "    </g>\n",
              "</svg>\n",
              "  </button>\n",
              "\n",
              "<style>\n",
              "  .colab-df-quickchart {\n",
              "      --bg-color: #E8F0FE;\n",
              "      --fill-color: #1967D2;\n",
              "      --hover-bg-color: #E2EBFA;\n",
              "      --hover-fill-color: #174EA6;\n",
              "      --disabled-fill-color: #AAA;\n",
              "      --disabled-bg-color: #DDD;\n",
              "  }\n",
              "\n",
              "  [theme=dark] .colab-df-quickchart {\n",
              "      --bg-color: #3B4455;\n",
              "      --fill-color: #D2E3FC;\n",
              "      --hover-bg-color: #434B5C;\n",
              "      --hover-fill-color: #FFFFFF;\n",
              "      --disabled-bg-color: #3B4455;\n",
              "      --disabled-fill-color: #666;\n",
              "  }\n",
              "\n",
              "  .colab-df-quickchart {\n",
              "    background-color: var(--bg-color);\n",
              "    border: none;\n",
              "    border-radius: 50%;\n",
              "    cursor: pointer;\n",
              "    display: none;\n",
              "    fill: var(--fill-color);\n",
              "    height: 32px;\n",
              "    padding: 0;\n",
              "    width: 32px;\n",
              "  }\n",
              "\n",
              "  .colab-df-quickchart:hover {\n",
              "    background-color: var(--hover-bg-color);\n",
              "    box-shadow: 0 1px 2px rgba(60, 64, 67, 0.3), 0 1px 3px 1px rgba(60, 64, 67, 0.15);\n",
              "    fill: var(--button-hover-fill-color);\n",
              "  }\n",
              "\n",
              "  .colab-df-quickchart-complete:disabled,\n",
              "  .colab-df-quickchart-complete:disabled:hover {\n",
              "    background-color: var(--disabled-bg-color);\n",
              "    fill: var(--disabled-fill-color);\n",
              "    box-shadow: none;\n",
              "  }\n",
              "\n",
              "  .colab-df-spinner {\n",
              "    border: 2px solid var(--fill-color);\n",
              "    border-color: transparent;\n",
              "    border-bottom-color: var(--fill-color);\n",
              "    animation:\n",
              "      spin 1s steps(1) infinite;\n",
              "  }\n",
              "\n",
              "  @keyframes spin {\n",
              "    0% {\n",
              "      border-color: transparent;\n",
              "      border-bottom-color: var(--fill-color);\n",
              "      border-left-color: var(--fill-color);\n",
              "    }\n",
              "    20% {\n",
              "      border-color: transparent;\n",
              "      border-left-color: var(--fill-color);\n",
              "      border-top-color: var(--fill-color);\n",
              "    }\n",
              "    30% {\n",
              "      border-color: transparent;\n",
              "      border-left-color: var(--fill-color);\n",
              "      border-top-color: var(--fill-color);\n",
              "      border-right-color: var(--fill-color);\n",
              "    }\n",
              "    40% {\n",
              "      border-color: transparent;\n",
              "      border-right-color: var(--fill-color);\n",
              "      border-top-color: var(--fill-color);\n",
              "    }\n",
              "    60% {\n",
              "      border-color: transparent;\n",
              "      border-right-color: var(--fill-color);\n",
              "    }\n",
              "    80% {\n",
              "      border-color: transparent;\n",
              "      border-right-color: var(--fill-color);\n",
              "      border-bottom-color: var(--fill-color);\n",
              "    }\n",
              "    90% {\n",
              "      border-color: transparent;\n",
              "      border-bottom-color: var(--fill-color);\n",
              "    }\n",
              "  }\n",
              "</style>\n",
              "\n",
              "  <script>\n",
              "    async function quickchart(key) {\n",
              "      const quickchartButtonEl =\n",
              "        document.querySelector('#' + key + ' button');\n",
              "      quickchartButtonEl.disabled = true;  // To prevent multiple clicks.\n",
              "      quickchartButtonEl.classList.add('colab-df-spinner');\n",
              "      try {\n",
              "        const charts = await google.colab.kernel.invokeFunction(\n",
              "            'suggestCharts', [key], {});\n",
              "      } catch (error) {\n",
              "        console.error('Error during call to suggestCharts:', error);\n",
              "      }\n",
              "      quickchartButtonEl.classList.remove('colab-df-spinner');\n",
              "      quickchartButtonEl.classList.add('colab-df-quickchart-complete');\n",
              "    }\n",
              "    (() => {\n",
              "      let quickchartButtonEl =\n",
              "        document.querySelector('#df-5256d705-1faa-4acf-a64a-db472031b069 button');\n",
              "      quickchartButtonEl.style.display =\n",
              "        google.colab.kernel.accessAllowed ? 'block' : 'none';\n",
              "    })();\n",
              "  </script>\n",
              "</div>\n",
              "    </div>\n",
              "  </div>\n"
            ],
            "application/vnd.google.colaboratory.intrinsic+json": {
              "type": "dataframe",
              "summary": "{\n  \"name\": \"df\",\n  \"rows\": 11,\n  \"fields\": [\n    {\n      \"column\": \"Id\",\n      \"properties\": {\n        \"dtype\": \"number\",\n        \"std\": 699938.0101817764,\n        \"min\": 299.0,\n        \"max\": 1999475.0,\n        \"num_unique_values\": 8,\n        \"samples\": [\n          1506446.6387959865,\n          1520300.0,\n          299.0\n        ],\n        \"semantic_type\": \"\",\n        \"description\": \"\"\n      }\n    },\n    {\n      \"column\": \"Assembly Line\",\n      \"properties\": {\n        \"dtype\": \"category\",\n        \"num_unique_values\": 4,\n        \"samples\": [\n          4,\n          \"156\",\n          \"299\"\n        ],\n        \"semantic_type\": \"\",\n        \"description\": \"\"\n      }\n    },\n    {\n      \"column\": \"Quantity (lts.)\",\n      \"properties\": {\n        \"dtype\": \"number\",\n        \"std\": 102.9850609829051,\n        \"min\": 0.0485174222137211,\n        \"max\": 293.0,\n        \"num_unique_values\": 8,\n        \"samples\": [\n          1.9979921506177474,\n          1.997947127,\n          293.0\n        ],\n        \"semantic_type\": \"\",\n        \"description\": \"\"\n      }\n    },\n    {\n      \"column\": \"CO2 dissolved\",\n      \"properties\": {\n        \"dtype\": \"number\",\n        \"std\": 105.95778907159972,\n        \"min\": 2.25345405,\n        \"max\": 299.0,\n        \"num_unique_values\": 8,\n        \"samples\": [\n          15.983235382207358,\n          14.06467265,\n          299.0\n        ],\n        \"semantic_type\": \"\",\n        \"description\": \"\"\n      }\n    },\n    {\n      \"column\": \"Time limit Crossed\",\n      \"properties\": {\n        \"dtype\": \"number\",\n        \"std\": 105.63393389999102,\n        \"min\": 0.0,\n        \"max\": 299.0,\n        \"num_unique_values\": 5,\n        \"samples\": [\n          0.1806020066889632,\n          1.0,\n          0.38533299309354435\n        ],\n        \"semantic_type\": \"\",\n        \"description\": \"\"\n      }\n    }\n  ]\n}"
            }
          },
          "metadata": {},
          "execution_count": 7
        }
      ]
    },
    {
      "cell_type": "code",
      "source": [
        "df.info()"
      ],
      "metadata": {
        "colab": {
          "base_uri": "https://localhost:8080/"
        },
        "id": "k0DLpwYY1t1N",
        "outputId": "38a3ac4e-a60a-46a2-98d5-dffa482afd34"
      },
      "execution_count": 8,
      "outputs": [
        {
          "output_type": "stream",
          "name": "stdout",
          "text": [
            "<class 'pandas.core.frame.DataFrame'>\n",
            "RangeIndex: 299 entries, 0 to 298\n",
            "Data columns (total 5 columns):\n",
            " #   Column              Non-Null Count  Dtype  \n",
            "---  ------              --------------  -----  \n",
            " 0   Id                  299 non-null    int64  \n",
            " 1   Assembly Line       299 non-null    object \n",
            " 2   Quantity (lts.)     293 non-null    float64\n",
            " 3   CO2 dissolved       299 non-null    float64\n",
            " 4   Time limit Crossed  299 non-null    int64  \n",
            "dtypes: float64(2), int64(2), object(1)\n",
            "memory usage: 11.8+ KB\n"
          ]
        }
      ]
    },
    {
      "cell_type": "code",
      "source": [
        "df.duplicated().sum()"
      ],
      "metadata": {
        "colab": {
          "base_uri": "https://localhost:8080/"
        },
        "id": "UxKfPRWt11_8",
        "outputId": "cadbf471-36ac-450d-bae0-e3ab050e2619"
      },
      "execution_count": 9,
      "outputs": [
        {
          "output_type": "execute_result",
          "data": {
            "text/plain": [
              "0"
            ]
          },
          "metadata": {},
          "execution_count": 9
        }
      ]
    },
    {
      "cell_type": "code",
      "source": [
        "median = round(df['Quantity (lts.)'].median(),3)\n",
        "print(f'The median vaue of Quantity (lts.) variable: {median}')"
      ],
      "metadata": {
        "colab": {
          "base_uri": "https://localhost:8080/"
        },
        "id": "e4ZNBIa318iS",
        "outputId": "d5714818-a119-42bd-9e38-296174fb39ac"
      },
      "execution_count": 10,
      "outputs": [
        {
          "output_type": "stream",
          "name": "stdout",
          "text": [
            "The median vaue of Quantity (lts.) variable: 1.998\n"
          ]
        }
      ]
    },
    {
      "cell_type": "code",
      "source": [
        "co2_dissolved_range = df['CO2 dissolved'].max() - df['CO2 dissolved'].min()\n",
        "\n",
        "# Round off to 2 decimal places\n",
        "co2_dissolved_range = round(co2_dissolved_range, 2)\n",
        "\n",
        "print(\"Range of CO2 dissolved feature:\", co2_dissolved_range)"
      ],
      "metadata": {
        "colab": {
          "base_uri": "https://localhost:8080/"
        },
        "id": "W22e1rja2l6k",
        "outputId": "b7852d0f-c47d-49cd-e3f9-5d199d3537e7"
      },
      "execution_count": 11,
      "outputs": [
        {
          "output_type": "stream",
          "name": "stdout",
          "text": [
            "Range of CO2 dissolved feature: 147.93\n"
          ]
        }
      ]
    },
    {
      "cell_type": "code",
      "source": [
        "df['Assembly Line'].nunique()"
      ],
      "metadata": {
        "colab": {
          "base_uri": "https://localhost:8080/"
        },
        "id": "IE905Iqo3SgT",
        "outputId": "ef5b94a6-3519-4522-f5c7-79d66bd08475"
      },
      "execution_count": 12,
      "outputs": [
        {
          "output_type": "execute_result",
          "data": {
            "text/plain": [
              "4"
            ]
          },
          "metadata": {},
          "execution_count": 12
        }
      ]
    },
    {
      "cell_type": "code",
      "source": [
        "df['Assembly Line'].unique()"
      ],
      "metadata": {
        "colab": {
          "base_uri": "https://localhost:8080/"
        },
        "id": "6q8JkuwC3pva",
        "outputId": "b8a39a66-f737-43c1-f0b5-3bfdfa2cc490"
      },
      "execution_count": 13,
      "outputs": [
        {
          "output_type": "execute_result",
          "data": {
            "text/plain": [
              "array(['B', 'A', 'b', 'a'], dtype=object)"
            ]
          },
          "metadata": {},
          "execution_count": 13
        }
      ]
    },
    {
      "cell_type": "code",
      "source": [
        "df['Assembly Line'] = df['Assembly Line'].replace('b','B')\n",
        "df['Assembly Line'] = df['Assembly Line'].replace('a','A')\n",
        "print(df['Assembly Line'].nunique())\n",
        "print(df['Assembly Line'].unique())\n"
      ],
      "metadata": {
        "colab": {
          "base_uri": "https://localhost:8080/"
        },
        "id": "fGF_O83dt56w",
        "outputId": "2e4622a6-f3a8-4dcc-a659-66455dd63d94"
      },
      "execution_count": 14,
      "outputs": [
        {
          "output_type": "stream",
          "name": "stdout",
          "text": [
            "2\n",
            "['B' 'A']\n"
          ]
        }
      ]
    },
    {
      "cell_type": "markdown",
      "source": [
        "**Remove any empty or incomplete rows:**\n",
        "\n",
        "Check if there are any rows with missing data. Substitute these values with the mean of numerical or mode for non-numerical data with respect to individual assembly lines."
      ],
      "metadata": {
        "id": "E7pQliwG493u"
      }
    },
    {
      "cell_type": "code",
      "source": [
        "df.isnull().sum()"
      ],
      "metadata": {
        "colab": {
          "base_uri": "https://localhost:8080/"
        },
        "id": "zA-CRgqb5E1E",
        "outputId": "d4a61c7b-ce0e-4f9e-e60f-226087309fef"
      },
      "execution_count": 15,
      "outputs": [
        {
          "output_type": "execute_result",
          "data": {
            "text/plain": [
              "Id                    0\n",
              "Assembly Line         0\n",
              "Quantity (lts.)       6\n",
              "CO2 dissolved         0\n",
              "Time limit Crossed    0\n",
              "dtype: int64"
            ]
          },
          "metadata": {},
          "execution_count": 15
        }
      ]
    },
    {
      "cell_type": "code",
      "source": [
        "df['Quantity (lts.)'] = df['Quantity (lts.)'].fillna(df['Quantity (lts.)'].mean())"
      ],
      "metadata": {
        "id": "6Cbr89jP5Q-Q"
      },
      "execution_count": 16,
      "outputs": []
    },
    {
      "cell_type": "code",
      "source": [
        "df.isnull().sum()"
      ],
      "metadata": {
        "colab": {
          "base_uri": "https://localhost:8080/"
        },
        "id": "oNaD-35t5dTa",
        "outputId": "be60e286-1af7-4b84-82e6-3c48a9ccfcb3"
      },
      "execution_count": 17,
      "outputs": [
        {
          "output_type": "execute_result",
          "data": {
            "text/plain": [
              "Id                    0\n",
              "Assembly Line         0\n",
              "Quantity (lts.)       0\n",
              "CO2 dissolved         0\n",
              "Time limit Crossed    0\n",
              "dtype: int64"
            ]
          },
          "metadata": {},
          "execution_count": 17
        }
      ]
    },
    {
      "cell_type": "markdown",
      "source": [
        "**Check for Outliers:**\n",
        "\n",
        "Check for outliers in the dataset and treating them accordingly.\n",
        "\n",
        "---\n",
        "\n"
      ],
      "metadata": {
        "id": "ftG7MJMh585-"
      }
    },
    {
      "cell_type": "code",
      "source": [
        "# Calculate the interquartile range (IQR)\n",
        "Q1 = df['CO2 dissolved'].quantile(0.25)\n",
        "Q3 = df['CO2 dissolved'].quantile(0.75)\n",
        "IQR = Q3 - Q1\n",
        "\n",
        "# Define the lower and upper bounds for outliers\n",
        "lower_bound = Q1 - 1.5 * IQR\n",
        "upper_bound = Q3 + 1.5 * IQR\n",
        "\n",
        "print(round(lower_bound,2))\n",
        "print(round(upper_bound,2))\n"
      ],
      "metadata": {
        "colab": {
          "base_uri": "https://localhost:8080/"
        },
        "id": "3Lx7Lf3D6SJY",
        "outputId": "baa11746-1609-46fa-e7ce-b4351edff140"
      },
      "execution_count": 18,
      "outputs": [
        {
          "output_type": "stream",
          "name": "stdout",
          "text": [
            "10.06\n",
            "18.19\n"
          ]
        }
      ]
    },
    {
      "cell_type": "code",
      "source": [
        "outliers = df[(df['CO2 dissolved'] < lower_bound) | (df['CO2 dissolved'] > upper_bound)]\n",
        "print(outliers)"
      ],
      "metadata": {
        "colab": {
          "base_uri": "https://localhost:8080/"
        },
        "id": "PrcPkWij7t_g",
        "outputId": "bec753ed-1098-49bc-af5e-d95053459fde"
      },
      "execution_count": 19,
      "outputs": [
        {
          "output_type": "stream",
          "name": "stdout",
          "text": [
            "         Id Assembly Line  Quantity (lts.)  CO2 dissolved  Time limit Crossed\n",
            "24  1162457             A         1.982551     120.107529                   0\n",
            "37  1299891             B         1.997992     120.502889                   0\n",
            "60  1782778             B         1.923756       2.253454                   0\n",
            "65  1446181             A         2.034007     130.179771                   0\n",
            "85  1711343             A         2.026532     150.180978                   0\n",
            "86  1301623             B         1.986128     140.233368                   0\n"
          ]
        }
      ]
    },
    {
      "cell_type": "code",
      "source": [
        "Q1 = df['CO2 dissolved'].quantile(0.25)\n",
        "Q3 =df['CO2 dissolved'].quantile(0.75)\n",
        "iqr = Q3-Q1\n",
        "q1 = Q1-1.5*iqr\n",
        "q3 = Q3+1.5*iqr\n",
        "fillter_CO2 = df[(df['CO2 dissolved']>=q1) &(df['CO2 dissolved']<=q3)]\n",
        "print(\"q1: \",q1,\"q3: \",q3,\"IQR: \",iqr)"
      ],
      "metadata": {
        "colab": {
          "base_uri": "https://localhost:8080/"
        },
        "id": "sG98RH4H9xw3",
        "outputId": "814a9cd3-8fc6-4686-cd5c-832a74078b80"
      },
      "execution_count": 20,
      "outputs": [
        {
          "output_type": "stream",
          "name": "stdout",
          "text": [
            "q1:  10.063504929999997 q3:  18.18534705 IQR:  2.030460530000001\n"
          ]
        }
      ]
    },
    {
      "cell_type": "code",
      "source": [
        "print('Mean value of CO2 dissolved variable after treating outliers:',round(fillter_CO2['CO2 dissolved'].mean(),2))"
      ],
      "metadata": {
        "colab": {
          "base_uri": "https://localhost:8080/"
        },
        "id": "T5OReaxL-B0t",
        "outputId": "abe5f646-bcca-44d0-f761-7fb4d26d416c"
      },
      "execution_count": 21,
      "outputs": [
        {
          "output_type": "stream",
          "name": "stdout",
          "text": [
            "Mean value of CO2 dissolved variable after treating outliers: 14.05\n"
          ]
        }
      ]
    },
    {
      "cell_type": "markdown",
      "source": [
        "**Understanding the distributions and patterns within the assessment data:**\n",
        "\n",
        "One of the primary objectives here is to understand the distributions and patterns within the data. I want to see if assembly lines are working fine or not.\n",
        "\n",
        "\n",
        "---\n",
        "\n"
      ],
      "metadata": {
        "id": "NHZhiAW28AIv"
      }
    },
    {
      "cell_type": "code",
      "source": [
        "df['Time limit Crossed'].value_counts()"
      ],
      "metadata": {
        "colab": {
          "base_uri": "https://localhost:8080/"
        },
        "id": "Zn6DWqaJ8F3s",
        "outputId": "c9d1c894-aa71-43ed-b369-3bfbbcadfb16"
      },
      "execution_count": 22,
      "outputs": [
        {
          "output_type": "execute_result",
          "data": {
            "text/plain": [
              "0    245\n",
              "1     54\n",
              "Name: Time limit Crossed, dtype: int64"
            ]
          },
          "metadata": {},
          "execution_count": 22
        }
      ]
    },
    {
      "cell_type": "code",
      "source": [
        "col = '#C6CCD6'\n",
        "\n",
        "# Create a figure and axes for the plot\n",
        "fig = plt.figure(figsize=(5,5), facecolor=col)\n",
        "a = plt.subplot2grid((2, 2), (0, 0), colspan=2)\n",
        "b = plt.subplot2grid((2, 2), (1, 0), colspan=2)\n",
        "\n",
        "# Plot for distribution of origin\n",
        "sns.boxplot(df['Quantity (lts.)'], ax=a, orient='h', palette='flare')\n",
        "a.set_title('Boxplot of Quantity (lts.)', fontsize=12, fontweight='bold')\n",
        "a.set_xlabel('Quantity (lts.)', fontweight='bold')\n",
        "a.set_ylabel('Density', fontweight='bold')\n",
        "\n",
        "# Histogram plot for distribution of flat area\n",
        "sns.histplot(df['Quantity (lts.)'], kde=True, ax=b, palette='crest')\n",
        "b.set_title('Histogram of Quantity (lts.)', fontsize=12, fontweight='bold')\n",
        "b.set_xlabel('Quantity (lts.)', fontweight='bold')\n",
        "b.set_ylabel('Density', fontweight='bold')\n",
        "\n",
        "plt.tight_layout()\n",
        "\n",
        "# Show the plot\n",
        "plt.show()"
      ],
      "metadata": {
        "colab": {
          "base_uri": "https://localhost:8080/",
          "height": 507
        },
        "id": "xUvxxTRXQJ1x",
        "outputId": "749efcb4-4ed1-42b0-e1c8-40ee27df8ad7"
      },
      "execution_count": 23,
      "outputs": [
        {
          "output_type": "display_data",
          "data": {
            "text/plain": [
              "<Figure size 500x500 with 2 Axes>"
            ],
            "image/png": "[encoded data removed]"
          },
          "metadata": {}
        }
      ]
    },
    {
      "cell_type": "markdown",
      "source": [
        "We can witness approximately normal distribution within quantity while the same is overshadowed due to presence of outliers in CO2 dissolved\n",
        "A histogram will gives a peek into how the  distribution looks like.\n",
        "A box plot on the other hand helps  understand min, max and interquartile range where most of the data is centred around.\n",
        "\n",
        "\n",
        "---\n",
        "\n"
      ],
      "metadata": {
        "id": "l68e0kbl98Vh"
      }
    },
    {
      "cell_type": "code",
      "source": [
        "result = df.groupby('Assembly Line')['Time limit Crossed'].agg(['count','mean'])\n",
        "print(result)"
      ],
      "metadata": {
        "colab": {
          "base_uri": "https://localhost:8080/"
        },
        "id": "GskACZNLW9kG",
        "outputId": "bf6c0def-6d5a-4aaf-eabe-1fcbfa3033b3"
      },
      "execution_count": 24,
      "outputs": [
        {
          "output_type": "stream",
          "name": "stdout",
          "text": [
            "               count      mean\n",
            "Assembly Line                 \n",
            "A                139  0.143885\n",
            "B                160  0.212500\n"
          ]
        }
      ]
    },
    {
      "cell_type": "code",
      "source": [
        "fig,ax1 = plt.subplots(figsize=(8,4))\n",
        "sns.barplot(x=result.index, y = result['count'],ax=ax1, color = 'mediumturquoise')\n",
        "ax2 =ax1.twinx()\n",
        "sns.lineplot(data=result['mean'], marker =\"o\",sort ='False', color='red',ax=ax2)\n",
        "\n",
        "ax1.set_xlabel('Assembly Line')\n",
        "ax1.set_ylabel('Observations for barplot')\n",
        "ax2.set_ylabel('Proportions for line plot')\n",
        "plt.show()\n",
        "\n"
      ],
      "metadata": {
        "colab": {
          "base_uri": "https://localhost:8080/",
          "height": 388
        },
        "id": "eVK36ObiWq3A",
        "outputId": "b914b45b-781a-4d53-f793-9b9f57268bf7"
      },
      "execution_count": 25,
      "outputs": [
        {
          "output_type": "display_data",
          "data": {
            "text/plain": [
              "<Figure size 800x400 with 2 Axes>"
            ],
            "image/png": "[encoded data removed]"
          },
          "metadata": {}
        }
      ]
    },
    {
      "cell_type": "code",
      "source": [
        "correlation = df['Quantity (lts.)'].corr(df['CO2 dissolved'])\n",
        "print(round(correlation,2))"
      ],
      "metadata": {
        "colab": {
          "base_uri": "https://localhost:8080/"
        },
        "id": "mjZ8PFiWZqu2",
        "outputId": "0d8c96e1-7713-4a2d-9503-c552f8a09dd0"
      },
      "execution_count": 26,
      "outputs": [
        {
          "output_type": "stream",
          "name": "stdout",
          "text": [
            "0.05\n"
          ]
        }
      ]
    },
    {
      "cell_type": "code",
      "source": [
        "order = ['A', 'B']\n",
        "\n",
        "# Create the barplot with the specified order\n",
        "plt.figure(figsize=(6,4))\n",
        "sns.barplot(x='Assembly Line', y='CO2 dissolved', data=df, order=order, palette='flare')\n",
        "\n",
        "# Set labels and title\n",
        "plt.xlabel('Assembly Line', fontweight='bold')\n",
        "plt.ylabel('CO2 dissolved', fontweight='bold')\n",
        "plt.title('Relationship between Assembly Line and CO2 Dissolved', fontsize=12, fontweight='bold')\n",
        "\n",
        "# Show the plot\n",
        "plt.show()"
      ],
      "metadata": {
        "colab": {
          "base_uri": "https://localhost:8080/",
          "height": 410
        },
        "id": "gTNuEJs7dOaq",
        "outputId": "10a43357-d75a-4462-c4a9-d72f2837435f"
      },
      "execution_count": 27,
      "outputs": [
        {
          "output_type": "display_data",
          "data": {
            "text/plain": [
              "<Figure size 600x400 with 1 Axes>"
            ],
            "image/png": "[encoded data removed]"
          },
          "metadata": {}
        }
      ]
    },
    {
      "cell_type": "markdown",
      "source": [
        "Relationship between Assembly Line and CO2 Dissolved after outlier treatment.\n",
        "\n",
        "\n",
        "---\n",
        "\n"
      ],
      "metadata": {
        "id": "6RUeRrQM-wW2"
      }
    },
    {
      "cell_type": "code",
      "source": [
        "order = ['A','B']\n",
        "plt.figure(figsize=(6,4))\n",
        "sns.barplot(x= df['Assembly Line'], y = fillter_CO2['CO2 dissolved'], order = order, palette='flare')\n",
        "\n",
        "# Set labels and title\n",
        "plt.xlabel('Assembly Line', fontweight='bold')\n",
        "plt.ylabel('CO2 dissolved', fontweight='bold')\n",
        "plt.title('Relationship between Assembly Line and CO2 Dissolved', fontsize=12, fontweight='bold')\n",
        "\n",
        "# Show the plot\n",
        "plt.show()"
      ],
      "metadata": {
        "colab": {
          "base_uri": "https://localhost:8080/",
          "height": 410
        },
        "id": "N87SUg7m-4lb",
        "outputId": "2d6fa6b5-a53b-46e9-cc68-305f8c1171b1"
      },
      "execution_count": 28,
      "outputs": [
        {
          "output_type": "display_data",
          "data": {
            "text/plain": [
              "<Figure size 600x400 with 1 Axes>"
            ],
            "image/png": "[encoded data removed]"
          },
          "metadata": {}
        }
      ]
    },
    {
      "cell_type": "markdown",
      "source": [
        "\n",
        "There is  significant correlations between numerical variables but there aresome differences in terms of carbonation and number of bottles that are crossing the time limit indicating the issues within the pipelines (though one of the issues could be due to a set of outliers).\n",
        "\n",
        "\n",
        "---\n",
        "\n"
      ],
      "metadata": {
        "id": "im7jdOaO_K6B"
      }
    },
    {
      "cell_type": "markdown",
      "source": [
        "**Probability distributions and interval estimates**\n",
        "---\n",
        "\n"
      ],
      "metadata": {
        "id": "tLgTBO3oFW2a"
      }
    },
    {
      "cell_type": "code",
      "source": [
        "probabilities = df.groupby('Assembly Line')['Time limit Crossed'].mean()\n",
        "\n",
        "# Display probabilities\n",
        "print(round(probabilities,2))"
      ],
      "metadata": {
        "colab": {
          "base_uri": "https://localhost:8080/"
        },
        "id": "O3lD2eAZGI7b",
        "outputId": "589a8f5e-2fb2-40ab-e1eb-683c63215042"
      },
      "execution_count": 29,
      "outputs": [
        {
          "output_type": "stream",
          "name": "stdout",
          "text": [
            "Assembly Line\n",
            "A    0.14\n",
            "B    0.21\n",
            "Name: Time limit Crossed, dtype: float64\n"
          ]
        }
      ]
    },
    {
      "cell_type": "code",
      "source": [
        "p = 0.21\n",
        "k = 10\n",
        "n = 50\n",
        "pmf = binom.pmf(k, n, p)\n",
        "print(round(pmf,2))"
      ],
      "metadata": {
        "colab": {
          "base_uri": "https://localhost:8080/"
        },
        "id": "MDJNgReGKyYb",
        "outputId": "4a6baad1-c2d3-4f44-d3a0-7c5b3afbac22"
      },
      "execution_count": 30,
      "outputs": [
        {
          "output_type": "stream",
          "name": "stdout",
          "text": [
            "0.14\n"
          ]
        }
      ]
    },
    {
      "cell_type": "code",
      "source": [
        "p = 0.21\n",
        "k = 10\n",
        "n = 50\n",
        "cdf = 1- binom.cdf(k, n, p)\n",
        "print(round(cdf,2))"
      ],
      "metadata": {
        "colab": {
          "base_uri": "https://localhost:8080/"
        },
        "id": "ZNW_ieR-LfWC",
        "outputId": "722e5729-485d-44fa-dc48-3998faf0a14e"
      },
      "execution_count": 31,
      "outputs": [
        {
          "output_type": "stream",
          "name": "stdout",
          "text": [
            "0.49\n"
          ]
        }
      ]
    },
    {
      "cell_type": "code",
      "source": [
        "p =  0.14\n",
        "k = 10\n",
        "n = 50\n",
        "pmf = binom.pmf(k, n, p)\n",
        "print(round(pmf,2))"
      ],
      "metadata": {
        "colab": {
          "base_uri": "https://localhost:8080/"
        },
        "id": "YptSwF0LLYhC",
        "outputId": "3230300e-9fa9-4373-a9d8-8b19c370249b"
      },
      "execution_count": 32,
      "outputs": [
        {
          "output_type": "stream",
          "name": "stdout",
          "text": [
            "0.07\n"
          ]
        }
      ]
    },
    {
      "cell_type": "code",
      "source": [
        "p = 0.14\n",
        "k = 10\n",
        "n = 50\n",
        "cdf = 1- binom.cdf(k, n, p)\n",
        "print(round(cdf,2))"
      ],
      "metadata": {
        "colab": {
          "base_uri": "https://localhost:8080/"
        },
        "id": "SgEZ5ZJrLo0E",
        "outputId": "4a85da54-9278-4343-a429-5e1228669491"
      },
      "execution_count": 33,
      "outputs": [
        {
          "output_type": "stream",
          "name": "stdout",
          "text": [
            "0.08\n"
          ]
        }
      ]
    },
    {
      "cell_type": "markdown",
      "source": [
        "By analysing these individual probabilities, I can understand that out of a randomly selected cohort of bottles, what are the chances of crossing the time limit within individual assembly lines. This clearly indicates that I may need to further investigate the root cause of taking higher time on assembly line B compared to A.\n",
        "\n",
        "---\n",
        "\n"
      ],
      "metadata": {
        "id": "bgz95RmXMThp"
      }
    },
    {
      "cell_type": "markdown",
      "source": [
        "Assuming that, in 2 Litre soft drink bottles, the drink filled is close to normally distributed. If bottles contain less than 95% of the listed net content (around 1.90 litres), the manufacturer may be penalised by the state office of consumer affairs. Bottles that have a net quantity above 2.1 litres may cause excess spillage upon opening.\n",
        "\n",
        "\n",
        "---\n",
        "\n"
      ],
      "metadata": {
        "id": "DVtpsS-kC6Tn"
      }
    },
    {
      "cell_type": "code",
      "source": [
        "Q1 = df['Quantity (lts.)'].quantile(0.25)\n",
        "Q3 = df['Quantity (lts.)'].quantile(0.75)\n",
        "IQR = Q3 - Q1\n",
        "lower_bound = Q1 - 1.5 * IQR\n",
        "upper_bound = Q3 + 1.5 * IQR\n",
        "\n",
        "# Replace outliers with the nearest non-outlier values\n",
        "df['Quantity (lts.)'] = df['Quantity (lts.)'].apply(lambda x: lower_bound if x < lower_bound else (upper_bound if x > upper_bound else x))\n",
        "\n",
        "print(\"DataFrame with outliers treated:\")\n",
        "print(df)"
      ],
      "metadata": {
        "colab": {
          "base_uri": "https://localhost:8080/"
        },
        "id": "9saFrOVtHx3h",
        "outputId": "d15dd090-3c44-46c6-f1f8-37d85fdb4b69"
      },
      "execution_count": 34,
      "outputs": [
        {
          "output_type": "stream",
          "name": "stdout",
          "text": [
            "DataFrame with outliers treated:\n",
            "          Id Assembly Line  Quantity (lts.)  CO2 dissolved  Time limit Crossed\n",
            "0    1263945             B         1.971072      14.401617                   0\n",
            "1    1828129             B         2.073388      14.137750                   0\n",
            "2    1871804             A         2.019492      14.774384                   0\n",
            "3    1128634             A         2.004422      15.130565                   0\n",
            "4    1848595             B         2.025784      15.756478                   0\n",
            "..       ...           ...              ...            ...                 ...\n",
            "294  1222073             A         1.974539      14.249096                   0\n",
            "295  1272076             B         1.974851      14.175526                   1\n",
            "296  1520410             B         1.991623      13.460719                   0\n",
            "297  1226204             B         1.935333      12.189065                   1\n",
            "298  1483198             A         2.007043      13.775047                   1\n",
            "\n",
            "[299 rows x 5 columns]\n"
          ]
        }
      ]
    },
    {
      "cell_type": "code",
      "source": [
        "mean = df['Quantity (lts.)'].mean()\n",
        "sd = df['Quantity (lts.)'].std()\n",
        "print(f'mean: {mean}')\n",
        "print(f'Standard Deviation: {sd}')"
      ],
      "metadata": {
        "colab": {
          "base_uri": "https://localhost:8080/"
        },
        "id": "p9ISWbpHIgwx",
        "outputId": "3a04b377-b613-46f9-96d5-d2f1c8eedf71"
      },
      "execution_count": 35,
      "outputs": [
        {
          "output_type": "stream",
          "name": "stdout",
          "text": [
            "mean: 1.9979921506177474\n",
            "Standard Deviation: 0.04802650818000254\n"
          ]
        }
      ]
    },
    {
      "cell_type": "code",
      "source": [
        "mean = df['Quantity (lts.)'].mean()\n",
        "sd = df['Quantity (lts.)'].std()\n",
        "\n",
        "print(f'mean: {mean}')\n",
        "print(f'Standard Deviation: {sd}')\n",
        "cdf1 = norm.cdf(1.9, loc= mean, scale = sd )\n",
        "cdf2 = 1 - norm.cdf(2.1,loc= mean, scale = sd)\n",
        "probability = cdf1 + cdf2\n",
        "print(round(probability,2))"
      ],
      "metadata": {
        "colab": {
          "base_uri": "https://localhost:8080/"
        },
        "id": "lJBVS473JaU_",
        "outputId": "36b15b60-8316-4e5f-c87e-0bc62f5d4daf"
      },
      "execution_count": 36,
      "outputs": [
        {
          "output_type": "stream",
          "name": "stdout",
          "text": [
            "mean: 1.9979921506177474\n",
            "Standard Deviation: 0.04802650818000254\n",
            "0.04\n"
          ]
        }
      ]
    },
    {
      "cell_type": "code",
      "source": [
        "cdf = norm.interval(0.9, loc= mean, scale = sd)\n",
        "print(cdf)"
      ],
      "metadata": {
        "colab": {
          "base_uri": "https://localhost:8080/"
        },
        "id": "c2uJqG4vJeBl",
        "outputId": "9412c402-2966-4b6f-91c1-d7c1b531eb94"
      },
      "execution_count": 37,
      "outputs": [
        {
          "output_type": "stream",
          "name": "stdout",
          "text": [
            "(1.9189955744480556, 2.076988726787439)\n"
          ]
        }
      ]
    },
    {
      "cell_type": "markdown",
      "source": [
        "\n",
        "There are very low chances of filling the bottle before 1.9 lts. And above 2.1 lts. except a few instances which can be fixed in the later stages. The 90% interval estimates indicate the same theory since most of the values are bound to fall within 1.9-2.1 litres range.\n",
        "\n",
        "---\n",
        "\n"
      ],
      "metadata": {
        "id": "2ywagH29MP-T"
      }
    },
    {
      "cell_type": "markdown",
      "source": [
        "**Summary**\n",
        "\n",
        "1. Higher Processing Time: In my analysis, I have witnessed that assembly line B has higher chances of introducing latency in filling the bottles as compared to assembly line A. This definitely has a negative impact on overall production as it slows down the production rate and therefore can affect the final shipment.\n",
        "The recommendation over here is to investigate the root cause asap. This may include fixing or upgrading the components involved in the production line, updating the softwares involved, etc.\n",
        "\n",
        "2. Higher Carbonation: I have encountered certain problems with CO2 dissolved or carbonation analysis. The carbonation values are very high (>15 gms per litre). Furthermore, there are 24.85% chances of getting high carbonation which may lead to higher spillage upon opening the bottle.\n",
        "This issue needs to be addressed immediately. Understand that it could be a data issue as well since there were outliers registered in CO2 dissolved and therefore, I need to collect other samples to conclude things later on.\n",
        "\n",
        "\n",
        "---\n",
        "\n",
        "\n"
      ],
      "metadata": {
        "id": "NJF6vXwGNoAZ"
      }
    }
  ]
}